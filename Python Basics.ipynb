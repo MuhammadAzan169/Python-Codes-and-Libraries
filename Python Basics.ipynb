{
 "cells": [
  {
   "cell_type": "code",
   "execution_count": null,
   "metadata": {
    "colab": {
     "base_uri": "https://localhost:8080/"
    },
    "id": "l_lo35Fs6Jv7",
    "outputId": "9f47b015-51a7-4736-9eb4-79d80749e486"
   },
   "outputs": [
    {
     "name": "stdout",
     "output_type": "stream",
     "text": [
      "hello world\n"
     ]
    }
   ],
   "source": [
    "print('hello world')"
   ]
  },
  {
   "cell_type": "code",
   "execution_count": 1,
   "metadata": {
    "colab": {
     "base_uri": "https://localhost:8080/"
    },
    "id": "SPPh3Hro6KpA",
    "outputId": "78c7469c-fcc9-441a-e294-0e17728e509e"
   },
   "outputs": [
    {
     "name": "stdout",
     "output_type": "stream",
     "text": [
      "4 is greater\n"
     ]
    }
   ],
   "source": [
    "#indentation\n",
    "if 4>1:\n",
    "  print('4 is greater')"
   ]
  },
  {
   "cell_type": "code",
   "execution_count": 5,
   "metadata": {
    "colab": {
     "base_uri": "https://localhost:8080/"
    },
    "id": "IkkGIyaX6LQr",
    "outputId": "291c460c-c3f9-44ac-a71a-3984939ede79"
   },
   "outputs": [
    {
     "name": "stdout",
     "output_type": "stream",
     "text": [
      "Azan\n",
      "Muhammad Azan\n"
     ]
    }
   ],
   "source": [
    "#comments\n",
    "# for single line\n",
    "print('Azan')\n",
    "#for multiline comments\n",
    "print(\"Muhammad Azan\")"
   ]
  },
  {
   "cell_type": "code",
   "execution_count": 9,
   "metadata": {
    "colab": {
     "base_uri": "https://localhost:8080/"
    },
    "id": "vtzsfzGTnpUH",
    "outputId": "89c7b3c4-a7e8-47ab-adfb-e45d74e2125c"
   },
   "outputs": [
    {
     "name": "stdout",
     "output_type": "stream",
     "text": [
      "67\n",
      "amna\n",
      "Azan\n"
     ]
    }
   ],
   "source": [
    "#variable\n",
    "x=67\n",
    "y=\"amna\"\n",
    "z= 'Azan'\n",
    "print(x)\n",
    "print(y)\n",
    "print(z)"
   ]
  },
  {
   "cell_type": "code",
   "execution_count": 10,
   "metadata": {
    "colab": {
     "base_uri": "https://localhost:8080/"
    },
    "id": "n8p3b9bcoFow",
    "outputId": "a3069365-796f-4fe3-996d-9c2961f82fed"
   },
   "outputs": [
    {
     "name": "stdout",
     "output_type": "stream",
     "text": [
      "Azan\n"
     ]
    }
   ],
   "source": [
    "x=69\n",
    "x=\"Azan\"\n",
    "print(x)"
   ]
  },
  {
   "cell_type": "code",
   "execution_count": 12,
   "metadata": {
    "colab": {
     "base_uri": "https://localhost:8080/"
    },
    "id": "9ly_ojBNojPD",
    "outputId": "f50e0ec3-9f5a-4bdb-a499-e6eabdb06dc5"
   },
   "outputs": [
    {
     "name": "stdout",
     "output_type": "stream",
     "text": [
      "Azan 6 6.9\n"
     ]
    }
   ],
   "source": [
    "#casting (specifing data type of variables)\n",
    "x=str('Azan')\n",
    "y=int(6)\n",
    "z=float(6.9)\n",
    "print (x,y,z)"
   ]
  },
  {
   "cell_type": "code",
   "execution_count": 14,
   "metadata": {
    "colab": {
     "base_uri": "https://localhost:8080/"
    },
    "id": "fmBx45tRpMF7",
    "outputId": "c168e537-f5b3-4251-d0dc-f16a655419a4"
   },
   "outputs": [
    {
     "name": "stdout",
     "output_type": "stream",
     "text": [
      "<class 'int'>\n",
      "<class 'str'>\n",
      "<class 'float'>\n"
     ]
    }
   ],
   "source": [
    "#getting data type\n",
    "x=69\n",
    "y='Azan'\n",
    "z=6.9\n",
    "print(type(x))\n",
    "print(type(y))\n",
    "print(type(z))"
   ]
  },
  {
   "cell_type": "code",
   "execution_count": 15,
   "metadata": {
    "colab": {
     "base_uri": "https://localhost:8080/"
    },
    "id": "QD7j4i2WuiFQ",
    "outputId": "b3dec7ac-afc4-4cf8-b8c5-8c98701cee88"
   },
   "outputs": [
    {
     "name": "stdout",
     "output_type": "stream",
     "text": [
      "Azan 69\n"
     ]
    }
   ],
   "source": [
    "#case sensitive\n",
    "a=69\n",
    "A=\"Azan\"\n",
    "print ( A,a)"
   ]
  },
  {
   "cell_type": "code",
   "execution_count": 16,
   "metadata": {
    "colab": {
     "base_uri": "https://localhost:8080/"
    },
    "id": "VSUd9YFnxCB9",
    "outputId": "a86bb7ec-92e2-4063-a4ca-70fcde3f80ab"
   },
   "outputs": [
    {
     "name": "stdout",
     "output_type": "stream",
     "text": [
      "Mercedes BMW Toyota\n"
     ]
    }
   ],
   "source": [
    "#multiple values to multiple variables\n",
    "x,y,z=('Mercedes','BMW','Toyota')\n",
    "print(x,y,z)"
   ]
  },
  {
   "cell_type": "code",
   "execution_count": 17,
   "metadata": {
    "colab": {
     "base_uri": "https://localhost:8080/"
    },
    "id": "jtQT5JQixjgO",
    "outputId": "16b0b715-22b3-45df-f5b1-47aea635d8b7"
   },
   "outputs": [
    {
     "name": "stdout",
     "output_type": "stream",
     "text": [
      "Black Nigga Black Nigga Black Nigga\n"
     ]
    }
   ],
   "source": [
    "#one value to multiple values\n",
    "x=y=z = (\"Black Nigga\")\n",
    "print(x,y,z)"
   ]
  },
  {
   "cell_type": "code",
   "execution_count": 19,
   "metadata": {
    "colab": {
     "base_uri": "https://localhost:8080/"
    },
    "id": "qPfr5vTwyAmX",
    "outputId": "1644d171-e7a9-4b70-90f3-76c79f363645"
   },
   "outputs": [
    {
     "name": "stdout",
     "output_type": "stream",
     "text": [
      "Mercedes BMW Toyota\n"
     ]
    }
   ],
   "source": [
    "#unpacking\n",
    "Cars=['Mercedes','BMW','Toyota']\n",
    "a,b,c= Cars\n",
    "print(a,b,c)"
   ]
  },
  {
   "cell_type": "code",
   "execution_count": 20,
   "metadata": {
    "colab": {
     "base_uri": "https://localhost:8080/"
    },
    "id": "x9Motv_6-LTJ",
    "outputId": "afe1d1ef-1a44-4be8-dab1-3b6a832d4d53"
   },
   "outputs": [
    {
     "name": "stdout",
     "output_type": "stream",
     "text": [
      "Mercedes is best\n",
      "Mercedes is  best\n"
     ]
    }
   ],
   "source": [
    "#output variables\n",
    "x='Mercedes is best'\n",
    "print(x)\n",
    "#using multiple variables\n",
    "x='Mercedes'\n",
    "y='is '\n",
    "z='best'\n",
    "print(x,y,z)"
   ]
  },
  {
   "cell_type": "code",
   "execution_count": 21,
   "metadata": {
    "colab": {
     "base_uri": "https://localhost:8080/"
    },
    "id": "EsR2nHrA-xao",
    "outputId": "3d8fae6f-1797-4ddf-8972-70d753ce9c09"
   },
   "outputs": [
    {
     "name": "stdout",
     "output_type": "stream",
     "text": [
      "Mercedesis best\n",
      "69\n"
     ]
    }
   ],
   "source": [
    "#output varibles with '+' operator\n",
    "#for charchters:\n",
    "x='Mercedes'\n",
    "y='is '\n",
    "z='best'\n",
    "print(x+y+z)\n",
    "#for numbers it is used sum operator\n",
    "x=39\n",
    "y=30\n",
    "print(x+y)\n"
   ]
  },
  {
   "cell_type": "code",
   "execution_count": null,
   "metadata": {
    "colab": {
     "base_uri": "https://localhost:8080/"
    },
    "id": "hfP_xOsh_qMx",
    "outputId": "9f6ad299-b9c9-4552-a798-f05a8880053e"
   },
   "outputs": [
    {
     "name": "stdout",
     "output_type": "stream",
     "text": [
      "it is a big door\n",
      "python is good\n",
      "python is great\n",
      "python is awesome\n"
     ]
    }
   ],
   "source": [
    "#global variables (that are created outside of a function)\n",
    "x='it is a '\n",
    "def myfunc():\n",
    "  print(x+ 'big door')\n",
    "myfunc()\n",
    "\n",
    "# using both global and local variables\n",
    "x=' great'\n",
    "def myfunc():\n",
    "  x=' good'\n",
    "  print('python is' +x)\n",
    "myfunc()\n",
    "\n",
    "print('python is' +x)\n",
    "\n",
    "#using global keyword\n",
    "def myfunc():\n",
    "  global x\n",
    "  x='awesome'\n",
    "myfunc()\n",
    "print('python is ' +x)"
   ]
  },
  {
   "cell_type": "code",
   "execution_count": 24,
   "metadata": {
    "colab": {
     "base_uri": "https://localhost:8080/"
    },
    "id": "myNyLbBRmTdm",
    "outputId": "64f193bd-d484-463d-89fb-b43ed7585d8a"
   },
   "outputs": [
    {
     "name": "stdout",
     "output_type": "stream",
     "text": [
      "<class 'int'>\n",
      "<class 'int'>\n",
      "<class 'int'>\n",
      "<class 'float'>\n",
      "<class 'float'>\n",
      "<class 'float'>\n",
      "<class 'float'>\n",
      "<class 'complex'>\n",
      "<class 'complex'>\n",
      "<class 'complex'>\n",
      "<class 'str'>\n",
      "<class 'str'>\n",
      "<class 'str'>\n",
      "66\n"
     ]
    }
   ],
   "source": [
    "#datatypes\n",
    "   #int\n",
    "x=1\n",
    "y=937390234\n",
    "z=-862932\n",
    "print(type(x))\n",
    "print(type(y))\n",
    "print(type(z))\n",
    "\n",
    "#float\n",
    "a=83.66\n",
    "b=-88.2\n",
    "print(type(a))\n",
    "print(type(b))\n",
    "s=76e2\n",
    "t=-93.78e4\n",
    "print(type(s))\n",
    "print(type(t))\n",
    "\n",
    "#complex\n",
    "m=5+7j\n",
    "n=-3j\n",
    "o=9j\n",
    "print(type(m))\n",
    "print(type(n))\n",
    "print(type(o))\n",
    "\n",
    "#string\n",
    "p='Azan'\n",
    "q='Shan'\n",
    "r='Manan'\n",
    "print(type(p))\n",
    "print(type(q))\n",
    "print(type(r))\n",
    "\n",
    "#import random\n",
    "import random\n",
    "print(random.randrange(1,69))\n",
    "\n",
    "\n"
   ]
  },
  {
   "cell_type": "code",
   "execution_count": 26,
   "metadata": {
    "colab": {
     "base_uri": "https://localhost:8080/"
    },
    "id": "MTumODF1G9Jy",
    "outputId": "e4d5da14-e60b-462d-ac7c-9d2c1df066d6"
   },
   "outputs": [
    {
     "name": "stdout",
     "output_type": "stream",
     "text": [
      "Muhammad Azan\n",
      "His name is 'Shan'\n",
      "i am a \"Legend\"\n",
      "I hate you\n",
      "i have many\n",
      "     hobbies like:\n",
      "     playing,drawing\n",
      "e\n",
      "b\n",
      "a\n",
      "n\n",
      "a\n",
      "n\n",
      "a\n",
      "9\n",
      "True\n"
     ]
    }
   ],
   "source": [
    "#strings\n",
    "print(\"Muhammad Azan\")\n",
    "\n",
    "#Qoutes inside quotes (the inside strings do not match outside strings)\n",
    "print(\"His name is 'Shan'\")\n",
    "print('i am a \"Legend\"')\n",
    "\n",
    "#Assigning string to a variable\n",
    "a='I hate you'\n",
    "print(a)\n",
    "\n",
    "#multiline strings(you can use both double or single qoutes)\n",
    "a='''i have many\n",
    "     hobbies like:\n",
    "     playing,drawing'''\n",
    "print(a)\n",
    "\n",
    "\n",
    "#strings as arrays\n",
    "a=\"hello world\"\n",
    "print(a[1])\n",
    "\n",
    "#looping via string\n",
    "for x in 'banana':\n",
    "  print(x)\n",
    "\n",
    "#string length\n",
    "p='new world'\n",
    "print(len(p))\n",
    "\n",
    "#cheak string\n",
    "life=\"life is hard\"\n",
    "print('life' in life)\n"
   ]
  },
  {
   "cell_type": "code",
   "execution_count": null,
   "metadata": {
    "colab": {
     "base_uri": "https://localhost:8080/"
    },
    "id": "mjfeqHiMdTP5",
    "outputId": "c4c9fcb1-a21f-4bd0-8145-d957d027bf11"
   },
   "outputs": [
    {
     "name": "stdout",
     "output_type": "stream",
     "text": [
      "lo w\n",
      "hello wo\n",
      "llo world\n",
      "o wo\n"
     ]
    }
   ],
   "source": [
    "#slicing strings\n",
    "a='hello world'\n",
    "print(a[3:7])\n",
    "\n",
    "#slice from start\n",
    "b='hello world'\n",
    "print(b[:8])\n",
    "\n",
    "#slice from end\n",
    "c='hello world'\n",
    "print(c[2:])\n",
    "\n",
    "#negative indexing\n",
    "d='hello world'\n",
    "print(d[-7:-3])"
   ]
  },
  {
   "cell_type": "code",
   "execution_count": 27,
   "metadata": {
    "colab": {
     "base_uri": "https://localhost:8080/"
    },
    "id": "5msL1KCGhNUD",
    "outputId": "9b0af5c1-b09c-441e-a9e4-ed20ea6912d6"
   },
   "outputs": [
    {
     "name": "stdout",
     "output_type": "stream",
     "text": [
      "MERCEDES IS BEST\n",
      "mercedes is best\n",
      "Mercedes is best\n",
      "MErcEdEs is bEst\n",
      "['Mercedes', 'is', 'best']\n"
     ]
    }
   ],
   "source": [
    "#Modify string\n",
    "\n",
    "#upper case\n",
    "a=\"Mercedes is best\"\n",
    "print(a.upper())\n",
    "\n",
    "#lower case\n",
    "a=\"Mercedes is best\"\n",
    "print(a.lower())\n",
    "\n",
    "#remove whitespace\n",
    "b=\" Mercedes is best   \"\n",
    "print(b.strip())\n",
    "\n",
    "#replace string\n",
    "c=\"Mercedes is best\"\n",
    "print(c.replace(\"e\", \"E\"))\n",
    "\n",
    "#split string\n",
    "d=\"Mercedes is best\"\n",
    "print(d.split(\" \"))"
   ]
  },
  {
   "cell_type": "code",
   "execution_count": null,
   "metadata": {
    "colab": {
     "base_uri": "https://localhost:8080/"
    },
    "id": "kKXHCn6Xgkmo",
    "outputId": "7c79d19d-cf61-4fa0-b5e9-ef299b112cf9"
   },
   "outputs": [
    {
     "name": "stdout",
     "output_type": "stream",
     "text": [
      "new sentence\n"
     ]
    }
   ],
   "source": [
    "#string concatination(combine)\n",
    "\n",
    "a=\"new\"\n",
    "b=\"sentence\"\n",
    "c=a + \" \" + b\n",
    "print(c)\n"
   ]
  },
  {
   "cell_type": "code",
   "execution_count": 30,
   "metadata": {
    "colab": {
     "base_uri": "https://localhost:8080/"
    },
    "id": "xEIbsrDBhLFM",
    "outputId": "b62ed5a6-fe3a-40b8-c4ab-ff02610e7a98"
   },
   "outputs": [
    {
     "name": "stdout",
     "output_type": "stream",
     "text": [
      "My age is {a}\n",
      "the price is 69.000 rs\n",
      "the price is 282 rs\n"
     ]
    }
   ],
   "source": [
    "#format string\n",
    "#f-string\n",
    "a=20\n",
    "b=\"My age is {a}\"\n",
    "print(b)\n",
    "\n",
    "#placeholder and modifiers\n",
    "#placehlders-----> can contains func,variable,operations\n",
    "#modifiers------> it uses \":\" to fomat value (within {})\n",
    "\n",
    "# for adding 3 decimal place\n",
    "p=69\n",
    "txt=f\"the price is {p:.3f} rs\"\n",
    "print(txt)\n",
    "\n",
    "# for maths operations\n",
    "p=47\n",
    "txt=f\"the price is {47 * 6} rs\"\n",
    "print(txt)"
   ]
  },
  {
   "cell_type": "code",
   "execution_count": 31,
   "metadata": {
    "colab": {
     "base_uri": "https://localhost:8080/"
    },
    "id": "PiQ77JiOnsKW",
    "outputId": "5244eee8-2d58-437a-d316-cc66b23293ec"
   },
   "outputs": [
    {
     "name": "stdout",
     "output_type": "stream",
     "text": [
      "this is a very \"beautiful\" car\n"
     ]
    }
   ],
   "source": [
    "#escape charcter(for inserting an illegeal charcter in a string)\n",
    "# like to add qoutes in qoutes\n",
    "\n",
    "a=\"this is a very \\\"beautiful\\\" car\"\n",
    "print(a)"
   ]
  },
  {
   "cell_type": "code",
   "execution_count": 32,
   "metadata": {
    "colab": {
     "base_uri": "https://localhost:8080/"
    },
    "id": "RJ83RuGDqyD0",
    "outputId": "03967a06-0675-4133-b6e4-398c22d5b171"
   },
   "outputs": [
    {
     "name": "stdout",
     "output_type": "stream",
     "text": [
      "True\n",
      "True\n",
      "True\n",
      "b is greater than b\n",
      "True\n",
      "True\n",
      "True\n",
      "False\n",
      "False\n",
      "False\n",
      "False\n"
     ]
    }
   ],
   "source": [
    "#boolean(for getting ans as true or fasle)\n",
    "\n",
    "print(3==3)\n",
    "print(6>1)\n",
    "print(4<9)\n",
    "\n",
    "#printing message on based on truee or fasle\n",
    "a=40\n",
    "b=65\n",
    "if a>b :\n",
    "  print(\"a is greater than b\")\n",
    "else:\n",
    "  print(\"b is greater than b\")\n",
    "\n",
    "#evualting variables and values\n",
    "#it returns true if there is some content or the value is not zero or the empty set\n",
    "\n",
    "#returns true\n",
    "print(bool(\"BMW\"))\n",
    "print(bool(69))\n",
    "print(bool(['CAR','orange']))\n",
    "\n",
    "#returns false\n",
    "print(bool(0))\n",
    "print(bool({}))\n",
    "print(bool(''))\n",
    "\n",
    "#obj with func __len__ also returns false\n",
    "class myclass():\n",
    "  def __len__(ok):\n",
    "    return 0\n",
    "myobj=myclass()\n",
    "print(bool(myobj))\n",
    "\n"
   ]
  },
  {
   "cell_type": "code",
   "execution_count": null,
   "metadata": {
    "colab": {
     "base_uri": "https://localhost:8080/"
    },
    "id": "cALTFhJ08OP8",
    "outputId": "a7ca43a5-c199-4fb6-ba93-16f8dbfc7538"
   },
   "outputs": [
    {
     "name": "stdout",
     "output_type": "stream",
     "text": [
      "11\n",
      "2.0\n",
      "0\n",
      "26\n"
     ]
    }
   ],
   "source": [
    "#operators\n",
    "\n",
    "print(5+6)\n",
    "print(8/4)\n",
    "\n",
    "#operator precedence\n",
    "print((6+3)-(6+3))\n",
    "print(6*4+2)"
   ]
  },
  {
   "cell_type": "code",
   "execution_count": 34,
   "metadata": {
    "colab": {
     "base_uri": "https://localhost:8080/"
    },
    "id": "lBWAOfh5p2cp",
    "outputId": "d78b25e2-cd8d-4552-e6a0-c522f29b54c9"
   },
   "outputs": [
    {
     "name": "stdout",
     "output_type": "stream",
     "text": [
      "['Mercedes', 'BMW']\n",
      "['Mercedes', 'BMW', 'Volvo', 'Audi', 'Audi']\n",
      "3\n",
      "['Mercedes', 69, False]\n",
      "<class 'list'>\n",
      "('Mercedes', 'BMW', 'Volvo', 'Audi', 'Audi')\n"
     ]
    }
   ],
   "source": [
    "#list (ordered,changeable,allow duplicate values)\n",
    "mylist=['Mercedes','BMW']\n",
    "print(mylist)\n",
    "\n",
    "#allow duplicates\n",
    "thelist=['Mercedes','BMW','Volvo','Audi','Audi']\n",
    "print(thelist)\n",
    "\n",
    "#list length\n",
    "mylist=['Mercedes','BMW','Volvo']\n",
    "print(len(mylist))\n",
    "\n",
    "#list items (different datatypes)\n",
    "mylist=['Mercedes',69,False]\n",
    "print(mylist)\n",
    "print(type(mylist))\n",
    "\n",
    "#list constructor\n",
    "thelist=(('Mercedes','BMW','Volvo','Audi','Audi'))\n",
    "print(thelist)"
   ]
  },
  {
   "cell_type": "code",
   "execution_count": 35,
   "metadata": {
    "colab": {
     "base_uri": "https://localhost:8080/"
    },
    "id": "OFyq39OIrZDM",
    "outputId": "b3f4fec2-80f3-4646-8346-559084530ba6"
   },
   "outputs": [
    {
     "name": "stdout",
     "output_type": "stream",
     "text": [
      "BMW\n",
      "Mercedes\n",
      "['Audi', 'Audi']\n",
      "['Mercedes', 'BMW', 'Volvo']\n",
      "yes, 'BMW' is in list\n"
     ]
    }
   ],
   "source": [
    "#access list items\n",
    "#first item has 0 index\n",
    "thislist=['Mercedes','BMW','Volvo']\n",
    "print(thislist[1])\n",
    "\n",
    "#negative indexing (starts from last)\n",
    "thislist=['Mercedes','BMW','Volvo']\n",
    "print(thislist[-3])\n",
    "\n",
    "#range of index\n",
    "thislist=['Mercedes','BMW','Volvo','Audi','Audi']\n",
    "print(thislist[3:7])\n",
    "\n",
    "#range of negative index\n",
    "mylist=['Mercedes','BMW','Volvo','Audi','Audi']\n",
    "print(mylist[-6:-2])\n",
    "\n",
    "#Check if Item Exists\n",
    "mylist=['Mercedes','BMW','Volvo','Audi','Audi']\n",
    "if 'BMW' in mylist:\n",
    "  print(\"yes, 'BMW' is in list\")"
   ]
  },
  {
   "cell_type": "code",
   "execution_count": 37,
   "metadata": {
    "colab": {
     "base_uri": "https://localhost:8080/"
    },
    "id": "dt3E3Y_UKe9s",
    "outputId": "9559c758-85b5-4a67-f4ce-129c0a45936e"
   },
   "outputs": [
    {
     "name": "stdout",
     "output_type": "stream",
     "text": [
      "['Porche', 'BMW', 'Volvo']\n",
      "['Hundai', 'Hunda', 'Nisaan', 'Volvo']\n",
      "['Mercedes', 'BMW', 'Volvo', 'Toyota']\n",
      "['Mercedes', 'BMW', 'Volvo', 'Nissan']\n",
      "['Mercedes', 'BMW', 'Nissan', 'Volvo']\n",
      "['Mercedes', 'BMW', 'Volvo', 'Hundai', 'Hunda', 'Nisaan']\n",
      "['Mercedes', 'BMW', 'Volvo', 'Hundai', 'Hunda', 'Nisaan']\n"
     ]
    }
   ],
   "source": [
    "#change list items\n",
    "#change by index\n",
    "mylist=['Mercedes','BMW','Volvo']\n",
    "mylist[0]='Porche'\n",
    "print(mylist)\n",
    "\n",
    "#chnage list by range\n",
    "mylist=['Mercedes','BMW','Volvo']\n",
    "mylist[0:2]='Hundai','Hunda','Nisaan'\n",
    "print(mylist)\n",
    "\n",
    "#insert new item\n",
    "mylist=['Mercedes','BMW','Volvo']\n",
    "mylist.insert(3,'Toyota')\n",
    "print(mylist)\n",
    "\n",
    "#add list items\n",
    "#append func(to add the end of the list)\n",
    "thislist=['Mercedes','BMW','Volvo']\n",
    "thislist.append('Nissan')\n",
    "print(thislist)\n",
    "\n",
    "#insert func(to add at the specific index)\n",
    "thislist=['Mercedes','BMW','Volvo']\n",
    "thislist.insert(2,'Nissan')\n",
    "print(thislist)\n",
    "\n",
    "#extend list (to add/append list,dict or tuples)\n",
    "#by list\n",
    "thelist=['Mercedes','BMW','Volvo']\n",
    "mylist=['Hundai','Hunda','Nisaan']\n",
    "thelist.extend(mylist)\n",
    "print(thelist)\n",
    "#by tuple\n",
    "thelist=['Mercedes','BMW','Volvo']\n",
    "thistuple=('Hundai','Hunda','Nisaan')\n",
    "thelist.extend(thistuple)\n",
    "print(thelist)"
   ]
  },
  {
   "cell_type": "code",
   "execution_count": 39,
   "metadata": {
    "colab": {
     "base_uri": "https://localhost:8080/"
    },
    "id": "KGB_7o-tzQDp",
    "outputId": "da8c6bcd-696b-468a-cfe5-14c34fc3adb9"
   },
   "outputs": [
    {
     "name": "stdout",
     "output_type": "stream",
     "text": [
      "['Mercedes', 'BMW']\n",
      "['Mercedes', 'BMW']\n",
      "['BMW', 'Volvo']\n",
      "[]\n"
     ]
    }
   ],
   "source": [
    "#remove list items\n",
    "#remove() fuc *** to remove specific item***\n",
    "thislist=['Mercedes','BMW','Volvo']\n",
    "thislist.remove('Volvo')\n",
    "print(thislist)\n",
    "\n",
    "#pop() func *** remove specific index***\n",
    "thislist=['Mercedes','BMW','Volvo']\n",
    "thislist.pop(2)\n",
    "print(thislist)\n",
    "\n",
    "#del() *** also removes specific index***\n",
    "thislist=['Mercedes','BMW','Volvo']\n",
    "del thislist [0]\n",
    "print(thislist)\n",
    "#del can also delt complete list\n",
    "thislist=['Mercedes','BMW','Volvo']\n",
    "del thislist\n",
    "\n",
    "#clear list ***empties the list\n",
    "thislist=['Mercedes','BMW','Volvo']\n",
    "thislist.clear()\n",
    "print(thislist)"
   ]
  },
  {
   "cell_type": "code",
   "execution_count": 40,
   "metadata": {
    "colab": {
     "base_uri": "https://localhost:8080/"
    },
    "id": "M3uN0v5gLqnN",
    "outputId": "1bc8d549-07e7-43e1-c66b-23347f692136"
   },
   "outputs": [
    {
     "name": "stdout",
     "output_type": "stream",
     "text": [
      "Mercedes\n",
      "BMW\n",
      "Volvo\n",
      "Mercedes\n",
      "BMW\n",
      "Volvo\n",
      "Mercedes\n",
      "BMW\n",
      "Volvo\n",
      "Mercedes\n",
      "BMW\n",
      "Volvo\n"
     ]
    }
   ],
   "source": [
    "#loop list\n",
    "#for loop\n",
    "mylist=['Mercedes','BMW','Volvo']\n",
    "for x in mylist:\n",
    "  print(x)\n",
    "  #loop through index\n",
    "mylist=['Mercedes','BMW','Volvo']\n",
    "for x in range(len(mylist)):\n",
    "  print(mylist[x])\n",
    "#while loop\n",
    "thislist=['Mercedes','BMW','Volvo']\n",
    "i=0\n",
    "while i< len(thislist):\n",
    "  print(thislist[i])\n",
    "  i=i+1\n",
    "\n",
    "#Looping Using List Comprehension\n",
    "#shorthand for loop\n",
    "thislist=['Mercedes','BMW','Volvo']\n",
    "_=[print(x) for x in thislist]\n"
   ]
  },
  {
   "cell_type": "code",
   "execution_count": 41,
   "metadata": {
    "colab": {
     "base_uri": "https://localhost:8080/"
    },
    "id": "EBNm3ZUcnVJI",
    "outputId": "85f56e4d-3898-4512-dea7-893c89ee9ba2"
   },
   "outputs": [
    {
     "name": "stdout",
     "output_type": "stream",
     "text": [
      "['Mercedes', 'BMW']\n",
      "[0, 1, 2, 3, 4, 5, 6, 7, 8, 9]\n"
     ]
    }
   ],
   "source": [
    "#list comprehenshion\n",
    "vehicles=['Mercedes','BMW','Volvo']\n",
    "newlist=[]\n",
    "for x in vehicles:\n",
    "  if 'M' in x:\n",
    "    newlist.append(x)\n",
    "print(newlist)\n",
    "\n",
    "#Iterable\n",
    "mylist=[x for x in range(10)]\n",
    "print(mylist)"
   ]
  },
  {
   "cell_type": "code",
   "execution_count": 42,
   "metadata": {
    "colab": {
     "base_uri": "https://localhost:8080/"
    },
    "id": "XiZ7Vt2xXuAM",
    "outputId": "ea131023-48e2-477a-e7e0-ccad61af6dad"
   },
   "outputs": [
    {
     "name": "stdout",
     "output_type": "stream",
     "text": [
      "['BMW', 'Mercedes', 'Volvo']\n",
      "[0, 3, 5, 6, 7, 9]\n",
      "['Volvo', 'Mercedes', 'BMW']\n",
      "[9, 7, 6, 5, 3, 0]\n",
      "[65, 66, 56, 55, 76, 89]\n",
      "['BMW', 'Mercedes', 'Volvo']\n",
      "['BMW', 'Mercedes', 'Volvo']\n",
      "['Volvo', 'BMW', 'Mercedes']\n"
     ]
    }
   ],
   "source": [
    "#list sorting\n",
    "\n",
    "#Alphanumerically list sorting ***ascending***\n",
    "\n",
    "#alphabetticaly:\n",
    "thislist=['Mercedes','BMW','Volvo']\n",
    "thislist.sort()\n",
    "print(thislist)\n",
    "\n",
    "#numerical:\n",
    "mylist=[5,7,6,9,3,0]\n",
    "mylist.sort()\n",
    "print(mylist)\n",
    "\n",
    "#Sort Descending\n",
    "#alphabetticaly:\n",
    "thislist=['Mercedes','BMW','Volvo']\n",
    "thislist.sort(reverse=True)\n",
    "print(thislist)\n",
    "\n",
    "#numerical:\n",
    "mylist=[5,7,6,9,3,0]\n",
    "mylist.sort(reverse=True)\n",
    "print(mylist)\n",
    "\n",
    "#Customize Sort Function\n",
    "# ***finding a number closer to 65 in sequence   ***abs: is a built-in func use to find absolute value\n",
    "def myfunc(n):\n",
    "  return abs(n-65)\n",
    "thislist=[55,76,89,66,56,65]\n",
    "thislist.sort(key=myfunc)\n",
    "print(thislist)\n",
    "\n",
    "#Case Insensitive Sort\n",
    "thislist=['Mercedes','BMW','Volvo']\n",
    "thislist.sort()\n",
    "print(thislist)\n",
    "#for printing small alphabets first:\n",
    "thislist=['Mercedes','BMW','Volvo']\n",
    "thislist.sort(key=str.lower)\n",
    "print(thislist)\n",
    "\n",
    "#reversing list\n",
    "thislist=['Mercedes','BMW','Volvo']\n",
    "thislist.reverse()\n",
    "print(thislist)"
   ]
  },
  {
   "cell_type": "code",
   "execution_count": 43,
   "metadata": {
    "colab": {
     "base_uri": "https://localhost:8080/"
    },
    "id": "du2rR73rcklw",
    "outputId": "9eda52a0-1eff-4a6f-b64a-d2dc6aa2c9f6"
   },
   "outputs": [
    {
     "name": "stdout",
     "output_type": "stream",
     "text": [
      "['Mercedes', 'BMW', 'Volvo']\n",
      "['Mercedes', 'BMW', 'Volvo', 'Hunda', 'Nissan', 'Toyota']\n",
      "[6, 9, 6, 's', 'n', 's']\n"
     ]
    }
   ],
   "source": [
    "#copy list\n",
    "thislist=['Mercedes','BMW','Volvo']\n",
    "mylist=thislist.copy()\n",
    "print(mylist)\n",
    "\n",
    "#join list\n",
    "list1=['Mercedes','BMW','Volvo']\n",
    "list2=['Hunda','Nissan','Toyota']\n",
    "list3=list1+list2\n",
    "print(list3)\n",
    "\n",
    "#using extend function\n",
    "list1=[6,9,6]\n",
    "list2=['s','n','s']\n",
    "list1.extend(list2)\n",
    "print(list1)"
   ]
  },
  {
   "cell_type": "code",
   "execution_count": 44,
   "metadata": {
    "colab": {
     "base_uri": "https://localhost:8080/"
    },
    "id": "m5docV75dxYe",
    "outputId": "e1f69426-c628-4b77-cb25-d1a34409f17e"
   },
   "outputs": [
    {
     "name": "stdout",
     "output_type": "stream",
     "text": [
      "('Mercedes', 'BMW', 'Volvo')\n",
      "('Mercedes', 'BMW', 'Volvo', 'Hunda')\n",
      "3\n",
      "('car',)\n",
      "(23, 'orange', True, 69.69)\n",
      "('Mercedes', 'BMW', 'Volvo')\n"
     ]
    }
   ],
   "source": [
    "# TUPLES\n",
    "thistuple=('Mercedes','BMW','Volvo')\n",
    "print(thistuple)\n",
    "\n",
    "# Allows duplicates\n",
    "thistuple=('Mercedes','BMW','Volvo','Hunda')\n",
    "print(thistuple)\n",
    "\n",
    "#tuple length\n",
    "thistuple=('Mercedes','BMW','Volvo')\n",
    "print(len(thistuple))\n",
    "\n",
    "# Create Tuple With One Item\n",
    "# *** for adding only one item in tuple use comma after that item otherwise it is not considered as tuple\n",
    "thistuple=('car',)\n",
    "print(thistuple)\n",
    "\n",
    "# tuple can contain different datatypes\n",
    "mytuple=(23,\"orange\", True, 69.69)\n",
    "print(mytuple)\n",
    "\n",
    "#tuple constructor\n",
    "tuple1=tuple(('Mercedes','BMW','Volvo'))\n",
    "print(tuple1)"
   ]
  },
  {
   "cell_type": "code",
   "execution_count": 48,
   "metadata": {
    "colab": {
     "base_uri": "https://localhost:8080/"
    },
    "id": "T8Nf2IaMvQ11",
    "outputId": "aa762930-dc43-4109-ebac-7a13b661a31c"
   },
   "outputs": [
    {
     "name": "stdout",
     "output_type": "stream",
     "text": [
      "BMW\n",
      "Volvo\n",
      "('BMW', 'Volvo', 'Hunda')\n",
      "yes, 'BMW' is in the tuple\n"
     ]
    }
   ],
   "source": [
    "# Access tple items\n",
    "# by refering the index num\n",
    "mytuple=('Mercedes','BMW','Volvo')\n",
    "print(mytuple[1])\n",
    "\n",
    "# Negative indexing\n",
    "mytuple=('Mercedes','BMW','Volvo')\n",
    "print(mytuple[-1])\n",
    "\n",
    "# Range of indexs\n",
    "thistuple=('Mercedes','BMW','Volvo','Hunda')\n",
    "print(thistuple[1:4])\n",
    "\n",
    "# Check if Item Exists\n",
    "mytuple=('Mercedes','BMW','Volvo','Hunda')\n",
    "if 'BMW' in mytuple:\n",
    "  print(\"yes, 'BMW' is in the tuple\")"
   ]
  },
  {
   "cell_type": "code",
   "execution_count": 49,
   "metadata": {
    "colab": {
     "base_uri": "https://localhost:8080/",
     "height": 245
    },
    "id": "tfdH1Mrixd8l",
    "outputId": "8f54a1bc-2003-4c79-97ea-c4ed9f29fdad"
   },
   "outputs": [
    {
     "name": "stdout",
     "output_type": "stream",
     "text": [
      "('Mercedes', 'BMW', 'Volvo', 'Hundai')\n",
      "('Mercedes', 'BMW', 'Volvo', 'Hunda', 'Nissan')\n",
      "('Mercedes', 'BMW', 'Volvo', 'Hunda', 'kiwi', 'leeche')\n",
      "('Mercedes', 'Volvo', 'Hunda')\n"
     ]
    },
    {
     "ename": "NameError",
     "evalue": "name 'tuple1' is not defined",
     "output_type": "error",
     "traceback": [
      "\u001b[1;31m---------------------------------------------------------------------------\u001b[0m",
      "\u001b[1;31mNameError\u001b[0m                                 Traceback (most recent call last)",
      "Cell \u001b[1;32mIn[49], line 37\u001b[0m\n\u001b[0;32m     35\u001b[0m tuple1\u001b[38;5;241m=\u001b[39m(\u001b[38;5;241m1\u001b[39m,\u001b[38;5;241m2\u001b[39m,\u001b[38;5;241m3\u001b[39m,\u001b[38;5;241m4\u001b[39m,\u001b[38;5;241m5\u001b[39m)\n\u001b[0;32m     36\u001b[0m \u001b[38;5;28;01mdel\u001b[39;00m tuple1\n\u001b[1;32m---> 37\u001b[0m \u001b[38;5;28mprint\u001b[39m(tuple1)\n",
      "\u001b[1;31mNameError\u001b[0m: name 'tuple1' is not defined"
     ]
    }
   ],
   "source": [
    "# Update tuple\n",
    "# *** chnaging tuples in list and back them in tuple***\n",
    "\n",
    "#changing specific value\n",
    "x=('Mercedes','BMW','Volvo','Hunda')\n",
    "y=list(x)\n",
    "y[3]='Hundai'\n",
    "x=tuple(y)\n",
    "print(x)\n",
    "\n",
    "# addding item to tuple\n",
    "\n",
    "# 1. change them in list:\n",
    "x=('Mercedes','BMW','Volvo','Hunda')\n",
    "y=list(x)\n",
    "y.append('Nissan')\n",
    "x=tuple(y)\n",
    "print(x)\n",
    "\n",
    "# 2. by adding two tuples:\n",
    "tuple1=('Mercedes','BMW','Volvo','Hunda')\n",
    "tuple2=('kiwi','leeche')\n",
    "tuple3=tuple1+tuple2\n",
    "print(tuple3)\n",
    "\n",
    "# Removing items\n",
    "# tuple -> list -> tuple\n",
    "mytuple=('Mercedes','BMW','Volvo','Hunda')\n",
    "thislist=list(mytuple)\n",
    "thislist.remove('BMW')\n",
    "mytuple=tuple(thislist)\n",
    "print(mytuple)\n",
    "\n",
    "#delete tuple\n",
    "tuple1=(1,2,3,4,5)\n",
    "del tuple1\n",
    "print(tuple1)# error will occured bcuz tuple is deleted\n"
   ]
  },
  {
   "cell_type": "code",
   "execution_count": 53,
   "metadata": {
    "colab": {
     "base_uri": "https://localhost:8080/"
    },
    "id": "den1EtFS2rK8",
    "outputId": "05681b6c-77b7-4325-a9f8-b38a19784e7e"
   },
   "outputs": [
    {
     "name": "stdout",
     "output_type": "stream",
     "text": [
      "strawberry apple mango\n",
      "strawberry\n",
      "['apple', 'mango', 'orange', 'kiwi']\n",
      "grapes\n"
     ]
    }
   ],
   "source": [
    "# Unpack tuple\n",
    "fruits=('strawberry','apple','mango')\n",
    "(pink,red,yellow)=fruits\n",
    "print(pink,red,yellow)\n",
    "\n",
    "#Using Asterisk*\n",
    "fruits=('strawberry','apple','mango','orange','kiwi','grapes')\n",
    "(pink,*red,yellow)=fruits\n",
    "print(pink)\n",
    "print(red)\n",
    "print(yellow)"
   ]
  },
  {
   "cell_type": "code",
   "execution_count": 54,
   "metadata": {
    "colab": {
     "base_uri": "https://localhost:8080/"
    },
    "id": "N6KCyvVUG9wD",
    "outputId": "242a1b62-fc86-4f39-b6f6-9ee9b1873bde"
   },
   "outputs": [
    {
     "name": "stdout",
     "output_type": "stream",
     "text": [
      "Mercedes\n",
      "BMW\n",
      "Volvo\n",
      "Hunda\n",
      "Mercedes\n",
      "BMW\n",
      "Volvo\n",
      "Hunda\n",
      "Mercedes\n",
      "BMW\n",
      "Volvo\n",
      "Hunda\n"
     ]
    }
   ],
   "source": [
    "#Loop Tuples\n",
    "\n",
    "#for loop\n",
    "mytuple=('Mercedes','BMW','Volvo','Hunda')\n",
    "for x in mytuple:\n",
    "  print(x)\n",
    "\n",
    "#Loop Through the Index Numbers\n",
    "thistuple=('Mercedes','BMW','Volvo','Hunda')\n",
    "for i in range(len(thistuple)):\n",
    "  print(thistuple[i])\n",
    "\n",
    "#Using a While Loop\n",
    "thistuple=('Mercedes','BMW','Volvo','Hunda')\n",
    "i=0\n",
    "while i<len(thistuple):\n",
    "  print(thistuple[i])\n",
    "  i=i+1"
   ]
  },
  {
   "cell_type": "code",
   "execution_count": 55,
   "metadata": {
    "colab": {
     "base_uri": "https://localhost:8080/"
    },
    "id": "XCnn1gBmbcNP",
    "outputId": "1ce5f42a-0732-48f5-b3d3-120c008ce816"
   },
   "outputs": [
    {
     "name": "stdout",
     "output_type": "stream",
     "text": [
      "('Mercedes', 'BMW', 'Volvo', 'Hunda', 'Hundai', 'Hunda', 'Nissan', 'Toyota')\n",
      "('Mercedes', 'BMW', 'Volvo', 'Hunda', 'Mercedes', 'BMW', 'Volvo', 'Hunda')\n"
     ]
    }
   ],
   "source": [
    "#Join Tuples\n",
    "# by + operator\n",
    "tuple1=('Mercedes','BMW','Volvo','Hunda')\n",
    "tuple2=('Hundai','Hunda','Nissan','Toyota')\n",
    "tuple3=tuple1+tuple2\n",
    "print(tuple3)\n",
    "\n",
    "# by * operator\n",
    "tuple1=('Mercedes','BMW','Volvo','Hunda')\n",
    "tuple2=tuple1 * 2\n",
    "print(tuple2)"
   ]
  },
  {
   "cell_type": "code",
   "execution_count": 58,
   "metadata": {
    "colab": {
     "base_uri": "https://localhost:8080/"
    },
    "id": "fPd8D4IViSxb",
    "outputId": "78d81798-548f-4180-a864-c76ef049577c"
   },
   "outputs": [
    {
     "name": "stdout",
     "output_type": "stream",
     "text": [
      "{'Mercedes', 'BMW', 'Volvo', 'Hunda'}\n",
      "{'Mercedes', 'BMW', 'Volvo', 'Hunda'}\n",
      "{1, 'BMW', 2, 'Volvo', 'Mercedes', 'Hunda'}\n",
      "{False, 2, 'BMW', 'Volvo', 'Mercedes', 'Hunda'}\n",
      "4\n",
      "<class 'set'>\n",
      "{'Mercedes', 'BMW', 'Volvo', 'Hunda'}\n"
     ]
    }
   ],
   "source": [
    "# Sets\n",
    "thisset = {'Mercedes', 'BMW', 'Volvo', 'Hunda'}\n",
    "print(thisset)\n",
    "\n",
    "# Duplicate value will be ignored\n",
    "myset = {'Mercedes', 'BMW', 'Volvo', 'Hunda'}\n",
    "print(myset)\n",
    "\n",
    "# True and 1, False and 0 are considered the same value\n",
    "myset = {'Mercedes', 'BMW', 'Volvo', 'Hunda', 2, 1, True}\n",
    "print(myset)\n",
    "\n",
    "myset = {'Mercedes', 'BMW', 'Volvo', 'Hunda', 2, False, 0}\n",
    "print(myset)\n",
    "\n",
    "# Length of the set\n",
    "thisset = {'Mercedes', 'BMW', 'Volvo', 'Hunda'}\n",
    "print(len(thisset))\n",
    "\n",
    "# Type of the set\n",
    "thisset = {'Mercedes', 'BMW', 'Volvo', 'Hunda'}\n",
    "print(type(thisset))\n",
    "\n",
    "# Set constructor\n",
    "set1 = set(('Mercedes', 'BMW', 'Volvo', 'Hunda'))\n",
    "print(set1)\n"
   ]
  },
  {
   "cell_type": "code",
   "execution_count": null,
   "metadata": {
    "colab": {
     "base_uri": "https://localhost:8080/"
    },
    "id": "jXdFnQ-Lk3vP",
    "outputId": "a6a9445a-aa85-428b-9808-a24a77675322"
   },
   "outputs": [
    {
     "name": "stdout",
     "output_type": "stream",
     "text": [
      "Pakistan\n",
      "Turkey\n",
      "Oman\n",
      "True\n"
     ]
    }
   ],
   "source": [
    "#access set\n",
    "#*** can not access ny index number***\n",
    "\n",
    "#via loop\n",
    "set1={'Pakistan','Oman','Turkey'}\n",
    "for x in set1:\n",
    "  print(x)\n",
    "\n",
    "#returning true (for returning false use not in)\n",
    "set1={'Pakistan','Oman','Turkey'}\n",
    "print('Pakistan' in set1)"
   ]
  },
  {
   "cell_type": "code",
   "execution_count": 59,
   "metadata": {
    "colab": {
     "base_uri": "https://localhost:8080/",
     "height": 245
    },
    "id": "f7vTSOWzn9_f",
    "outputId": "dc6d2d6e-aa33-4693-9e06-51c340f32662"
   },
   "outputs": [
    {
     "name": "stdout",
     "output_type": "stream",
     "text": [
      "{'BMW', 'Toyota', 'Hunda', 'Volvo', 'Mercedes'}\n",
      "{'BMW', 'Volvo', 'kasur', 'multan', 'Mercedes', 'lahore', 'Hunda'}\n",
      "{'Mercedes', 'Volvo', 'Hunda'}\n",
      "{'Mercedes', 'Volvo', 'Hunda'}\n",
      "{'BMW', 'Volvo', 'Hunda'}\n",
      "set()\n"
     ]
    },
    {
     "ename": "NameError",
     "evalue": "name 'thisset' is not defined",
     "output_type": "error",
     "traceback": [
      "\u001b[1;31m---------------------------------------------------------------------------\u001b[0m",
      "\u001b[1;31mNameError\u001b[0m                                 Traceback (most recent call last)",
      "Cell \u001b[1;32mIn[59], line 38\u001b[0m\n\u001b[0;32m     36\u001b[0m thisset\u001b[38;5;241m=\u001b[39m{\u001b[38;5;124m'\u001b[39m\u001b[38;5;124mMercedes\u001b[39m\u001b[38;5;124m'\u001b[39m, \u001b[38;5;124m'\u001b[39m\u001b[38;5;124mBMW\u001b[39m\u001b[38;5;124m'\u001b[39m, \u001b[38;5;124m'\u001b[39m\u001b[38;5;124mVolvo\u001b[39m\u001b[38;5;124m'\u001b[39m, \u001b[38;5;124m'\u001b[39m\u001b[38;5;124mHunda\u001b[39m\u001b[38;5;124m'\u001b[39m}\n\u001b[0;32m     37\u001b[0m \u001b[38;5;28;01mdel\u001b[39;00m thisset\n\u001b[1;32m---> 38\u001b[0m \u001b[38;5;28mprint\u001b[39m(thisset)\n",
      "\u001b[1;31mNameError\u001b[0m: name 'thisset' is not defined"
     ]
    }
   ],
   "source": [
    "# Add set items\n",
    "\n",
    "# ***add items*** ---> add()\n",
    "thisset={'Mercedes', 'BMW', 'Volvo', 'Hunda'}\n",
    "thisset.add('Toyota')\n",
    "print(thisset)\n",
    "\n",
    "#add sets----> update() **the update will add list,tuple,dict to set as well.\n",
    "set1={'Mercedes', 'BMW', 'Volvo', 'Hunda'}\n",
    "set2={'lahore','kasur','multan'}\n",
    "set1.update(set2)\n",
    "print(set1)\n",
    "\n",
    "#Remove set items\n",
    "#***remove() *** if the item is not present it will raise an error\n",
    "set1={'Mercedes', 'BMW', 'Volvo', 'Hunda'}\n",
    "set1.remove('BMW')\n",
    "print(set1)\n",
    "\n",
    "#***discard() *** if the item is not present it will raise an error\n",
    "set2={'Mercedes', 'BMW', 'Volvo', 'Hunda'}\n",
    "set2.discard('BMW')\n",
    "print(set2)\n",
    "\n",
    "#pop() ----> for removing anyrandom number\n",
    "myset={'Mercedes', 'BMW', 'Volvo', 'Hunda'}\n",
    "myset.pop()\n",
    "print(myset)\n",
    "\n",
    "# clear() -----> for emties the set\n",
    "thisset={'Mercedes', 'BMW', 'Volvo', 'Hunda'}\n",
    "thisset.clear()\n",
    "print(thisset)\n",
    "\n",
    "# del() -----> for delt the set\n",
    "thisset={'Mercedes', 'BMW', 'Volvo', 'Hunda'}\n",
    "del thisset\n",
    "print(thisset) # error occurs becuz the set is deleted"
   ]
  },
  {
   "cell_type": "code",
   "execution_count": null,
   "metadata": {
    "colab": {
     "base_uri": "https://localhost:8080/"
    },
    "id": "6gPJFYesxwm0",
    "outputId": "9e111f50-0e84-44fd-a271-6ee06151411f"
   },
   "outputs": [
    {
     "name": "stdout",
     "output_type": "stream",
     "text": [
      "rain\n",
      "water\n",
      "air\n"
     ]
    }
   ],
   "source": [
    "# loop set\n",
    "myset={'rain','water','air'}\n",
    "for x in myset:\n",
    "  print(x)"
   ]
  },
  {
   "cell_type": "code",
   "execution_count": 60,
   "metadata": {
    "colab": {
     "base_uri": "https://localhost:8080/"
    },
    "id": "wWIE_nuHyBnE",
    "outputId": "f839f49f-a935-47a7-ac25-8fc407c86aa7"
   },
   "outputs": [
    {
     "name": "stdout",
     "output_type": "stream",
     "text": [
      "{'BMW', 'Toyota', 'Hunda', 'Hundai', 'Volvo', 'Mercedes', 'Nissan'}\n",
      "{'BMW', 'Toyota', 'Hunda', 'Hundai', 'Volvo', 'Mercedes', 'Nissan'}\n",
      "{'Hunda'}\n",
      "{'Mercedes', 'BMW', 'Volvo', 'Hunda'}\n",
      "{'Mercedes', 'BMW', 'Volvo'}\n",
      "{'Mercedes', 'BMW', 'Volvo', 'Hunda'}\n",
      "{'Mercedes', 'BMW', 'Volvo', 'Hunda'}\n"
     ]
    }
   ],
   "source": [
    "# join sets\n",
    "\n",
    "# ***union() ---->joins all items from both sets also you can use | opertaor\n",
    "set1={'Mercedes', 'BMW', 'Volvo', 'Hunda'}\n",
    "set2={'Hundai','Hunda','Nissan','Toyota'}\n",
    "set3=set1.union(set2)\n",
    "print(set3)\n",
    "\n",
    "#update() ---->inserts all items from one set into another\n",
    "set1={'Mercedes', 'BMW', 'Volvo', 'Hunda'}\n",
    "set2={'Hundai','Hunda','Nissan','Toyota'}\n",
    "set1.update(set2)\n",
    "print(set1)\n",
    "\n",
    "#intersection --->same elements of set also & opertaor used for it\n",
    "set1={'Mercedes', 'BMW', 'Volvo', 'Hunda'}\n",
    "set2={'Hundai','Hunda','Nissan','Toyota'}\n",
    "set3=set1.intersection(set2)\n",
    "print(set3)\n",
    "\n",
    "# intersection_update ----> update the first set\n",
    "set1={'Mercedes', 'BMW', 'Volvo', 'Hunda'}\n",
    "set2={'Hundai','Hunda','Nissan','Toyota'}\n",
    "set1.intersection(set2)\n",
    "print(set1)\n",
    "\n",
    "#difference() --->  return new set that will contain items from first set that are not present in other set\n",
    "# *** you can also use - for this\n",
    "set1={'Mercedes', 'BMW', 'Volvo', 'Hunda'}\n",
    "set2={'Hundai','Hunda','Nissan','Toyota'}\n",
    "set3=set1.difference(set2)\n",
    "print(set3)\n",
    "#diifference_update ----> update first set\n",
    "set1={'Mercedes', 'BMW', 'Volvo', 'Hunda'}\n",
    "set2={'Hundai','Hunda','Nissan','Toyota'}\n",
    "set1.difference(set2)\n",
    "print(set1)\n",
    "\n",
    "#symmetric_difference ----> also ^ is used for this\n",
    "# ***will keep only the elements that are NOT present in both sets***\n",
    "set1={'Mercedes', 'BMW', 'Volvo', 'Hunda'}\n",
    "set2={'Hundai','Hunda','Nissan','Toyota'}\n",
    "set1.symmetric_difference(set2)\n",
    "print(set1)"
   ]
  },
  {
   "cell_type": "code",
   "execution_count": 61,
   "metadata": {
    "colab": {
     "base_uri": "https://localhost:8080/"
    },
    "id": "NC-nT_KyBnXv",
    "outputId": "1f9cd2e0-2168-45c2-c1a0-a50f383da673"
   },
   "outputs": [
    {
     "name": "stdout",
     "output_type": "stream",
     "text": [
      "{'brand': 'Mercedes', 'model': 'G-Wagon', 'year': 2020}\n",
      "Mercedes\n",
      "3\n",
      "{'brand': 'Mercedes', 'model': 'G-Wagon', 'year': 2020}\n"
     ]
    }
   ],
   "source": [
    "#Dictionaries\n",
    "mydict={'brand':'Mercedes','model':'G-Wagon','year':2020}\n",
    "print(mydict)\n",
    "\n",
    "#Dictionary Items\n",
    "mydict={'brand':'Mercedes','model':'G-Wagon','year':2020}\n",
    "print(mydict['brand'])\n",
    "\n",
    "#dictionary length\n",
    "mydict={'brand':'Mercedes','model':'G-Wagon','year':2020}\n",
    "print(len(mydict))\n",
    "\n",
    "#dictionary constructor\n",
    "thisdict=dict(brand='Mercedes',model='G-Wagon',year=2020)\n",
    "print(thisdict)\n",
    "\n"
   ]
  },
  {
   "cell_type": "code",
   "execution_count": 62,
   "metadata": {
    "colab": {
     "base_uri": "https://localhost:8080/"
    },
    "id": "oBrBt3D-EH5G",
    "outputId": "c42a479c-6bab-4c87-e621-90cb061ac94a"
   },
   "outputs": [
    {
     "name": "stdout",
     "output_type": "stream",
     "text": [
      "2020\n",
      "dict_keys(['brand', 'model', 'year'])\n",
      "dict_keys(['brand', 'model', 'year', 'colour'])\n",
      "dict_values(['amna', 'seven', 'b '])\n",
      "yes, name is present\n"
     ]
    }
   ],
   "source": [
    "#access items\n",
    "mydict={'brand':'Mercedes','model':'G-Wagon','year':2020}\n",
    "x=mydict['year']\n",
    "print(x)\n",
    "\n",
    "#Get Keys\n",
    "mydict={'brand':'Mercedes','model':'G-Wagon','year':2020}\n",
    "x=mydict.keys()\n",
    "print(x)\n",
    "#adding new item to this dictionary\n",
    "mydict['colour']='black'\n",
    "print(x)\n",
    "\n",
    "#get values\n",
    "thisdict={'name':'amna','class':'seven','sec':'b '}\n",
    "x=thisdict.values()\n",
    "print(x)\n",
    "\n",
    "#cheaking for a specifiv key exits\n",
    "thisdict={'name':'amna','class':'seven','sec':'b '}\n",
    "if 'name' in thisdict:\n",
    "  print('yes, name is present' )"
   ]
  },
  {
   "cell_type": "code",
   "execution_count": 1,
   "metadata": {
    "colab": {
     "base_uri": "https://localhost:8080/"
    },
    "id": "p1mGOS8A8_Jj",
    "outputId": "7cdffe9a-4c13-4329-8603-db194f699fc1"
   },
   "outputs": [
    {
     "name": "stdout",
     "output_type": "stream",
     "text": [
      "{'name': 'Azan', 'class': 'first', 'sec': 'a '}\n",
      "{'name': 'shan', 'class': 'third', 'sec': 'a '}\n"
     ]
    }
   ],
   "source": [
    "# Change Dictionary Items\n",
    "\n",
    "#Changing specific Values\n",
    "thisdict={'name':'Azan','class':'third','sec':'a '}\n",
    "thisdict['class']='first'\n",
    "print(thisdict)\n",
    "\n",
    "#Update Dictionary\n",
    "thisdict={'name':'Azan','class':'third','sec':'a '}\n",
    "thisdict.update({'name':'shan'})\n",
    "print(thisdict)"
   ]
  },
  {
   "cell_type": "code",
   "execution_count": 2,
   "metadata": {
    "colab": {
     "base_uri": "https://localhost:8080/",
     "height": 245
    },
    "id": "CjqujHRS-u13",
    "outputId": "fe9c2b5f-1123-4575-a077-a345acc0ce12"
   },
   "outputs": [
    {
     "name": "stdout",
     "output_type": "stream",
     "text": [
      "{'name': 'Azan', 'sec': 'a '}\n",
      "{'name': 'Azan', 'class': 'third'}\n",
      "{}\n",
      "{'class': 'third', 'sec': 'a '}\n"
     ]
    },
    {
     "ename": "NameError",
     "evalue": "name 'thisdict' is not defined",
     "output_type": "error",
     "traceback": [
      "\u001b[1;31m---------------------------------------------------------------------------\u001b[0m",
      "\u001b[1;31mNameError\u001b[0m                                 Traceback (most recent call last)",
      "Cell \u001b[1;32mIn[2], line 24\u001b[0m\n\u001b[0;32m     22\u001b[0m thisdict\u001b[38;5;241m=\u001b[39m{\u001b[38;5;124m'\u001b[39m\u001b[38;5;124mname\u001b[39m\u001b[38;5;124m'\u001b[39m:\u001b[38;5;124m'\u001b[39m\u001b[38;5;124mAzan\u001b[39m\u001b[38;5;124m'\u001b[39m,\u001b[38;5;124m'\u001b[39m\u001b[38;5;124mclass\u001b[39m\u001b[38;5;124m'\u001b[39m:\u001b[38;5;124m'\u001b[39m\u001b[38;5;124mthird\u001b[39m\u001b[38;5;124m'\u001b[39m,\u001b[38;5;124m'\u001b[39m\u001b[38;5;124msec\u001b[39m\u001b[38;5;124m'\u001b[39m:\u001b[38;5;124m'\u001b[39m\u001b[38;5;124ma \u001b[39m\u001b[38;5;124m'\u001b[39m}\n\u001b[0;32m     23\u001b[0m \u001b[38;5;28;01mdel\u001b[39;00m thisdict\n\u001b[1;32m---> 24\u001b[0m \u001b[38;5;28mprint\u001b[39m(thisdict)\n",
      "\u001b[1;31mNameError\u001b[0m: name 'thisdict' is not defined"
     ]
    }
   ],
   "source": [
    "#Remove Dictionary Items\n",
    "#pop() ----> removes item with specific key\n",
    "thisdict={'name':'Azan','class':'third','sec':'a '}\n",
    "thisdict.pop('class')\n",
    "print(thisdict)\n",
    "\n",
    "#popitem() ------> removes last item of dict\n",
    "thisdict={'name':'Azan','class':'third','sec':'a '}\n",
    "thisdict.popitem()\n",
    "print(thisdict)\n",
    "\n",
    "#clear() ----> emties the dict\n",
    "thisdict={'name':'Azan','class':'third','sec':'a '}\n",
    "thisdict.clear()\n",
    "print(thisdict)\n",
    "\n",
    "#del keyword ----> removes the item with the specified key name\n",
    "thisdict={'name':'Azan','class':'third','sec':'a '}\n",
    "del thisdict['name']\n",
    "print(thisdict)\n",
    "#*** del is also used to del the dict***\n",
    "thisdict={'name':'Azan','class':'third','sec':'a '}\n",
    "del thisdict\n",
    "print(thisdict) # error will occur bcuz dict is deleted"
   ]
  },
  {
   "cell_type": "code",
   "execution_count": 3,
   "metadata": {
    "colab": {
     "base_uri": "https://localhost:8080/"
    },
    "id": "VYb6Bh8iBJvy",
    "outputId": "c88be948-b21d-4aa2-c433-7528e04ab314"
   },
   "outputs": [
    {
     "name": "stdout",
     "output_type": "stream",
     "text": [
      "name\n",
      "class\n",
      "sec\n",
      "Azan\n",
      "third\n",
      "a \n",
      "{'name': 'Azan', 'class': 'third', 'sec': 'a '}\n"
     ]
    }
   ],
   "source": [
    "# Loop Dictionaries\n",
    "\n",
    "#for getting dict keys\n",
    "thisdict={'name':'Azan','class':'third','sec':'a '}\n",
    "for x in thisdict:\n",
    "  print(x)\n",
    "\n",
    "# for getting dict values\n",
    "thisdict={'name':'Azan','class':'third','sec':'a '}\n",
    "for x in thisdict.values():\n",
    "  print(x)\n",
    "  # *** you can access both keys and values using items()\n",
    "\n",
    "#Copy Dictionaries\n",
    "#using copy()\n",
    "dict1={'name':'Azan','class':'third','sec':'a '}\n",
    "dict2=dict1.copy()\n",
    "print(dict2)"
   ]
  },
  {
   "cell_type": "code",
   "execution_count": 4,
   "metadata": {
    "colab": {
     "base_uri": "https://localhost:8080/"
    },
    "id": "AwEhPAmRDbkU",
    "outputId": "684621a9-5c31-43a6-ca9a-3a361d3c8667"
   },
   "outputs": [
    {
     "name": "stdout",
     "output_type": "stream",
     "text": [
      "{'dict1': {'name': 'Azan', 'class': 'third'}, 'dict2': {'name': 'shan', 'class': 'six'}, ' dict3': {'name': 'manan', 'class': 'two'}}\n",
      "{'dict1': {'pear': 'green', 'weigth': '1 kg'}, 'dict2': {'apple': 'red', 'weigth': '2 kg'}, 'dict3': {'mango': 'yellow', 'weigth': '2 kg'}}\n",
      "shan\n",
      "dict1\n",
      "name: haram\n",
      "year: 2004\n",
      "dict2\n",
      "name: shan\n",
      "year: 2004\n",
      "dict3\n",
      "name: shan\n",
      "year: 2004\n"
     ]
    }
   ],
   "source": [
    "#Nested Dictionaries\n",
    "#*** dictionary contaning dictionary***\n",
    "topdict={\n",
    "    'dict1':{'name':'Azan','class':'third'},\n",
    "    'dict2':{'name':'shan','class':'six'},\n",
    "   ' dict3':{'name':'manan','class':'two'}\n",
    "}\n",
    "print(topdict)\n",
    "\n",
    "#adding three dictionary into new dictionary\n",
    "dict1={'pear':'green','weigth':'1 kg'}\n",
    "dict2={'apple':'red','weigth':'2 kg'}\n",
    "dict3={'mango':'yellow','weigth':'2 kg'}\n",
    "\n",
    "mydict={\n",
    "    'dict1':dict1,\n",
    "    'dict2':dict2,\n",
    "    'dict3':dict3\n",
    "}\n",
    "print(mydict)\n",
    "\n",
    "#Access Items in Nested Dictionaries\n",
    "thisdict={\n",
    "    'dict1':{'name':'haram','year':2004},\n",
    "    'dict2':{'name':'shan','year':2004},\n",
    "    'dict3':{'name':'shan','year':2004}\n",
    "}\n",
    "print(thisdict['dict2']['name'])\n",
    "\n",
    "#Loop Through Nested Dictionaries\n",
    "thisdict={\n",
    "    'dict1':{'name':'haram','year':2004},\n",
    "    'dict2':{'name':'shan','year':2004},\n",
    "    'dict3':{'name':'shan','year':2004}\n",
    "}\n",
    "for x, obj in thisdict.items():\n",
    "  print(x)\n",
    "  for y in obj:\n",
    "    print(y+ ':',obj[y])\n"
   ]
  },
  {
   "cell_type": "code",
   "execution_count": 5,
   "metadata": {
    "colab": {
     "base_uri": "https://localhost:8080/"
    },
    "id": "aPBUgbep40JD",
    "outputId": "c4fb415c-4a85-4263-cb73-f6bd27b9fa53"
   },
   "outputs": [
    {
     "name": "stdout",
     "output_type": "stream",
     "text": [
      "a is greater than b\n",
      "a and b are equal\n",
      "b is greater than a\n",
      "a is greater than b\n",
      "b\n",
      "both statments are true\n",
      "one statment is true\n",
      "b is not greater than a\n",
      "a is greater than 10\n",
      "a is greater than 20\n"
     ]
    }
   ],
   "source": [
    "# if else\n",
    "a=65\n",
    "b=56\n",
    "if a>b :\n",
    "  print('a is greater than b')\n",
    "\n",
    "# Elif\n",
    "a=77\n",
    "b=77\n",
    "if b<a:\n",
    "  print('a is greater than b')\n",
    "elif a==b:\n",
    "  print('a and b are equal')\n",
    "\n",
    "#else\n",
    "a=28\n",
    "b=45\n",
    "if a>b:\n",
    "  print('a is greater than b')\n",
    "elif b>a:\n",
    "  print('b is greater than a')\n",
    "else:\n",
    "  print('a and b are equal')\n",
    "\n",
    "#Short Hand If\n",
    "a=45\n",
    "b=34\n",
    "if a>b: print('a is greater than b')\n",
    "\n",
    "#Short Hand If ... Else\n",
    "a=234\n",
    "b=876\n",
    "print('b') if b>a else print('a and b are equal') if a==b else print('a')\n",
    "\n",
    "#logical operators\n",
    "#And\n",
    "a=67\n",
    "b=34\n",
    "c=27\n",
    "if a>b and c<b:\n",
    "  print('both statments are true')\n",
    "\n",
    "#or\n",
    "a=89\n",
    "b=56\n",
    "c=93\n",
    "if a==b or c>a:\n",
    "  print('one statment is true')\n",
    "\n",
    "#Not\n",
    "a=76\n",
    "b=60\n",
    "if not a<b:\n",
    "  print('b is not greater than a')\n",
    "\n",
    "#nestes if\n",
    "a=30\n",
    "if a>10:\n",
    "  print('a is greater than 10')\n",
    "  if a>20:\n",
    "    print('a is greater than 20')\n",
    "  else:\n",
    "    print('but not above 25')\n",
    "\n"
   ]
  },
  {
   "cell_type": "code",
   "execution_count": null,
   "metadata": {
    "colab": {
     "base_uri": "https://localhost:8080/"
    },
    "id": "DychukFzhG1l",
    "outputId": "263f2529-9342-4c09-988b-c1405cf35006"
   },
   "outputs": [
    {
     "name": "stdout",
     "output_type": "stream",
     "text": [
      "0\n",
      "1\n",
      "2\n",
      "3\n",
      "4\n",
      "5\n",
      "6\n",
      "7\n",
      ".....\n",
      "1\n",
      "2\n",
      "3\n",
      "4\n",
      "5\n",
      "......\n",
      "1\n",
      "2\n",
      "3\n",
      "4\n",
      "6\n",
      "7\n",
      "8\n",
      "9\n",
      "10\n",
      "......\n",
      "0\n",
      "1\n",
      "2\n",
      "3\n",
      "4\n",
      "5\n",
      "6\n",
      "7\n",
      "i is now greater than 8\n"
     ]
    }
   ],
   "source": [
    "#LOOPS\n",
    "\n",
    "#While Loops\n",
    "i=0\n",
    "while i<8:\n",
    "  print(i)\n",
    "  i +=1\n",
    "\n",
    "print('.....')\n",
    "#break Statement\n",
    "i=1\n",
    "while i<8:\n",
    "    print(i)\n",
    "    if i >= 5:\n",
    "      break\n",
    "    i +=1\n",
    "\n",
    "print('......')\n",
    "#The continue Statement\n",
    "i=0\n",
    "while i<10:\n",
    "  i += 1\n",
    "  if i == 5:\n",
    "    continue\n",
    "  print(i)\n",
    "\n",
    "print('......')\n",
    "#The else Statement\n",
    "i=0\n",
    "while i<8:\n",
    "  print(i)\n",
    "  i +=1\n",
    "else:\n",
    "  print('i is now greater than 8')"
   ]
  },
  {
   "cell_type": "code",
   "execution_count": null,
   "metadata": {
    "colab": {
     "base_uri": "https://localhost:8080/"
    },
    "id": "4B40_alCf32D",
    "outputId": "5f2f752c-4038-4fe6-b7ad-533a55777eb3"
   },
   "outputs": [
    {
     "name": "stdout",
     "output_type": "stream",
     "text": [
      "mango\n",
      "orange\n",
      "apple\n",
      "....\n",
      "a\n",
      "p\n",
      "p\n",
      "l\n",
      "e\n",
      ".....\n",
      "mango\n",
      "orange\n",
      "apple\n",
      ".....\n",
      "mango\n",
      "orange\n",
      "apple\n",
      "pear\n",
      ".....\n",
      "0\n",
      "1\n",
      "2\n",
      "3\n",
      "4\n",
      "....\n",
      "2\n",
      "5\n",
      "8\n",
      "11\n",
      "14\n",
      "17\n",
      "20\n",
      "23\n",
      "all done\n",
      "......\n",
      "red apple\n",
      "red mango\n",
      "red pear\n",
      "yellow apple\n",
      "yellow mango\n",
      "yellow pear\n",
      "green apple\n",
      "green mango\n",
      "green pear\n"
     ]
    }
   ],
   "source": [
    "# for loop\n",
    "fruits=['mango','orange','apple']\n",
    "for x in fruits:\n",
    "  print(x)\n",
    "\n",
    "print('....')\n",
    "#Looping Through a String\n",
    "fruits=['mango','orange','apple']\n",
    "for x in 'apple':\n",
    "  print(x)\n",
    "\n",
    "print('.....')\n",
    "#The break Statement\n",
    "fruits=['mango','orange','apple','pear']\n",
    "for x in fruits:\n",
    "  print(x)\n",
    "  if x == 'apple':\n",
    "    break\n",
    "\n",
    "print('.....')\n",
    "#The continue Statement\n",
    "fruits=['mango','orange','apple','pear']\n",
    "for x in fruits:\n",
    "  print(x)\n",
    "  if x == 'orange':\n",
    "    continue\n",
    "\n",
    "print('.....')\n",
    "#The range() Function\n",
    "for x in range(5):\n",
    "  print(x)\n",
    "\n",
    "print('....')\n",
    "#Else in For Loop\n",
    "for x in range(2,24,3):\n",
    "  print(x)\n",
    "else:\n",
    "  print('all done')\n",
    "\n",
    "print('......')\n",
    "#Nested Loops\n",
    "colour=['red','yellow','green']\n",
    "fruits=['apple','mango','pear']\n",
    "for x in colour:\n",
    "  for y in fruits:\n",
    "    print(x,y)\n",
    "\n",
    "#pass Statement\n",
    "for x in fruits:\n",
    "  pass"
   ]
  },
  {
   "cell_type": "code",
   "execution_count": 6,
   "metadata": {
    "colab": {
     "base_uri": "https://localhost:8080/"
    },
    "id": "jeb1Y0aVkI_h",
    "outputId": "515ccd55-1b0b-4de5-d71e-a5a32867553b"
   },
   "outputs": [
    {
     "name": "stdout",
     "output_type": "stream",
     "text": [
      "hello from a function\n",
      "MuhammadAzan\n",
      "GoodAzan\n",
      "badAzan\n",
      "LegendAzan\n",
      "The youngest child is  haziq\n",
      "The youngest child is  haziq\n",
      "i am from  UAE\n",
      "i am from  Japan\n",
      "i am from  pakistan\n",
      "apple\n",
      "mango\n",
      "orange\n",
      "10\n",
      ".....\n",
      "th recursion value is :\n",
      "1\n",
      "3\n",
      "6\n",
      "10\n",
      "15\n",
      "21\n"
     ]
    },
    {
     "data": {
      "text/plain": [
       "21"
      ]
     },
     "execution_count": 6,
     "metadata": {},
     "output_type": "execute_result"
    }
   ],
   "source": [
    "#Python Functions\n",
    "def my_func():\n",
    "  print('hello from a function')\n",
    "my_func()\n",
    "\n",
    "#ARGUMENTS\n",
    "def my_func(name):\n",
    "      print(name+'Azan')\n",
    "my_func('Muhammad')\n",
    "my_func('Good')\n",
    "my_func('bad')\n",
    "my_func('Legend')\n",
    "\n",
    "#Arbitrary Arguments, *args\n",
    "def my_func(*child):\n",
    "  print('The youngest child is ', child[3])\n",
    "my_func('azan','anas','ahmed','haziq')\n",
    "\n",
    "#Keyword Arguments\n",
    "def my_func(child1,child2,child3,child4):\n",
    "  print('The youngest child is ', child4)\n",
    "my_func(child1='Azan',child2='anas',child3='ahmed',child4='haziq')\n",
    "\n",
    "#Default Parameter Value\n",
    "def my_func(c='pakistan'):\n",
    "  print('i am from ',c)\n",
    "my_func('UAE')\n",
    "my_func('Japan')\n",
    "my_func()\n",
    "\n",
    "#Passing a List as an Argument\n",
    "def my_func(fruits):\n",
    "  for x in fruits:\n",
    "    print(x)\n",
    "fruits=['apple','mango','orange']\n",
    "my_func(fruits)\n",
    "\n",
    "#Return Values\n",
    "def my_func(x):\n",
    "  return x + 5\n",
    "print(my_func(5))\n",
    "\n",
    "print('.....')\n",
    "#recursion\n",
    "def tri_recursion(x):\n",
    "  if (x >0):\n",
    "    result=x + tri_recursion(x-1)\n",
    "    print(result)\n",
    "  else:\n",
    "    result=0\n",
    "  return result\n",
    "print('th recursion value is :')\n",
    "tri_recursion(6)\n"
   ]
  },
  {
   "cell_type": "code",
   "execution_count": null,
   "metadata": {
    "colab": {
     "base_uri": "https://localhost:8080/"
    },
    "id": "UgdtotFS4JsT",
    "outputId": "7ed303bf-2013-4503-dc19-bf08ff71bc1d"
   },
   "outputs": [
    {
     "name": "stdout",
     "output_type": "stream",
     "text": [
      "10\n",
      "60\n",
      "44\n"
     ]
    }
   ],
   "source": [
    "# lambda -----> small anonymous function\n",
    "x=lambda a: a+5\n",
    "print(x(5))\n",
    "\n",
    "x= lambda a,b,c:a*b*c\n",
    "print(x(2,6,5))\n",
    "\n",
    "# for doubling a num\n",
    "def my_func(n):\n",
    "  return lambda a: a*n\n",
    "double_num = my_func(2)\n",
    "print(double_num(22))"
   ]
  },
  {
   "cell_type": "code",
   "execution_count": 7,
   "metadata": {
    "colab": {
     "base_uri": "https://localhost:8080/"
    },
    "id": "hY2XuB1Ld6rv",
    "outputId": "83583ce8-2eb6-4d02-d764-78ffbcb83ac4"
   },
   "outputs": [
    {
     "name": "stdout",
     "output_type": "stream",
     "text": [
      "mercedes\n",
      "volvo\n",
      "mercedes\n",
      "bmw\n",
      "['volvo', 'mercedes', 'bmw', 'mango']\n",
      "['volvo', 'mercedes', 'mango']\n"
     ]
    }
   ],
   "source": [
    "#OOP\n",
    "#Python Arrays\n",
    "#accessing via index\n",
    "fruits=['volvo','mercedes','bmw']\n",
    "x=fruits[1]\n",
    "print(x)\n",
    "\n",
    "#for loop\n",
    "arr=['volvo','mercedes','bmw']\n",
    "for x in arr:\n",
    "  print(x)\n",
    "\n",
    "#Adding Array Elements\n",
    "myarr=['volvo','mercedes','bmw']\n",
    "myarr.append('mango')\n",
    "print(myarr)\n",
    "\n",
    "#Removing Array Elements\n",
    "myarr.pop(2)\n",
    "print(myarr)"
   ]
  },
  {
   "cell_type": "code",
   "execution_count": 8,
   "metadata": {
    "colab": {
     "base_uri": "https://localhost:8080/"
    },
    "id": "qiuQuipMf3uq",
    "outputId": "ff24545c-877d-4b3c-87b7-3732ef7cb3ad"
   },
   "outputs": [
    {
     "name": "stdout",
     "output_type": "stream",
     "text": [
      "6 9\n",
      "Azan 20\n",
      "6(A)\n",
      "The name of my city is Karachi\n"
     ]
    }
   ],
   "source": [
    "#Classes and Objects\n",
    "\n",
    "class theclass:\n",
    "  x=6\n",
    "  y=9\n",
    "obj1=theclass()\n",
    "obj2=theclass()\n",
    "print(obj1.x,obj2.y)\n",
    "\n",
    "#The __init__() Function ----> to assign values\n",
    "class myclass:\n",
    "  def __init__(self,name,age):\n",
    "    self.name=name\n",
    "    self.age=age\n",
    "obj1= myclass('Azan',20)\n",
    "print(obj1.name,obj1.age)\n",
    "\n",
    "# __str__() function\n",
    "class Person:\n",
    "  def __init__(myself,theclass,sec):\n",
    "    myself.theclass= theclass\n",
    "    myself.sec = sec\n",
    "  def __str__(myself):\n",
    "    return f\"{myself.theclass}({myself.sec})\"\n",
    "person1=Person(6,'A')\n",
    "print(person1)\n",
    "\n",
    "#Object Methods\n",
    "class City:\n",
    "  def __init__(self,name,loc):\n",
    "    self.name=name\n",
    "    self.loc = loc\n",
    "  def myfunc(self):\n",
    "    print('The name of my city is ' + self.name)\n",
    "s1=City('Karachi','Pakistan')\n",
    "s1.myfunc()\n",
    "\n"
   ]
  },
  {
   "cell_type": "code",
   "execution_count": 1,
   "metadata": {},
   "outputs": [
    {
     "name": "stdout",
     "output_type": "stream",
     "text": [
      "Muhammad Azan\n",
      "Shan-e- ALI\n",
      "Abdul Manan\n",
      "Waqar Zahid\n",
      "SIR Sajid\n",
      "2023\n"
     ]
    }
   ],
   "source": [
    "# Python Inheritance\n",
    "#creating parent class\n",
    "class Teacher:\n",
    "  def __init__(self,firstname,lastname):\n",
    "    self.firstname=firstname\n",
    "    self.lastname=lastname\n",
    "  def myfunc(self):\n",
    "    print(self.firstname,self.lastname)\n",
    "t1=Teacher('Muhammad','Azan')\n",
    "t1.myfunc()\n",
    "\n",
    "#creating child class ** send the parent class as a parameter**\n",
    "class Student(Teacher):\n",
    "  pass\n",
    "s1=Student('Shan-e-','ALI')\n",
    "s1.myfunc()\n",
    "\n",
    "#Add the __init__() Function\n",
    "class Student(Teacher):\n",
    "  def __init__(self,firstname,lastname):\n",
    "    Teacher.__init__(self,firstname,lastname)\n",
    "s2=Student('Abdul','Manan')\n",
    "s2.myfunc()\n",
    "\n",
    "#Use the super() Function **he child class inherit all the methods and properties from its parent***\n",
    "class Student(Teacher):\n",
    "  def __init__(self,firstname,lastname):\n",
    "    super().__init__(firstname,lastname)\n",
    "s3=Student('Waqar','Zahid')\n",
    "s3.myfunc()\n",
    "\n",
    "#Add Properties\n",
    "class Employee:\n",
    "  def __init__(self,fname,lname):\n",
    "    self.fname=fname\n",
    "    self.lname=lname\n",
    "  def myfunc(self):\n",
    "    print(self.fname,self.lname)\n",
    "class Teacher(Employee):\n",
    "  def __init__(self,fname,lname,year):\n",
    "    super().__init__(fname,lname)\n",
    "    self.graduationyear = year\n",
    "t1=Teacher('SIR','Sajid',2023)\n",
    "t1.myfunc()\n",
    "print(t1.graduationyear)"
   ]
  },
  {
   "cell_type": "code",
   "execution_count": 2,
   "metadata": {},
   "outputs": [
    {
     "name": "stdout",
     "output_type": "stream",
     "text": [
      "volvo\n",
      "mercedes\n",
      "bmw\n",
      ".....\n",
      "volvo\n",
      "mercedes\n",
      "bmw\n",
      ".....\n",
      "2\n",
      "4\n",
      "6\n",
      "8\n",
      "10\n",
      "......\n",
      "1\n",
      "3\n",
      "5\n",
      "7\n",
      "9\n",
      "11\n",
      "13\n"
     ]
    }
   ],
   "source": [
    "# Python Iterators\n",
    "mylist=['volvo','mercedes','bmw']\n",
    "myit=iter(mylist)\n",
    "print(next(myit))\n",
    "print(next(myit))\n",
    "print(next(myit))\n",
    "\n",
    "print('.....')\n",
    "#Looping Through an Iterator\n",
    "mylist=['volvo','mercedes','bmw']\n",
    "for x in mylist:\n",
    "  print(x)\n",
    "\n",
    "print('.....')\n",
    "#Create an Iterator in class\n",
    "class Evennum:\n",
    "  def __iter__(self):\n",
    "    self.e=2\n",
    "    return self\n",
    "  def __next__(self):\n",
    "    x=self.e\n",
    "    self.e +=2\n",
    "    return x\n",
    "myclass=Evennum()\n",
    "myiter=iter(myclass)\n",
    "\n",
    "print(next(myiter))\n",
    "print(next(myiter))\n",
    "print(next(myiter))\n",
    "print(next(myiter))\n",
    "print(next(myiter))\n",
    "\n",
    "print('......')\n",
    "#StopIteration\n",
    "class Oddnum:\n",
    "  def __iter__(self):\n",
    "    self.o=1\n",
    "    return self\n",
    "  def __next__(self):\n",
    "    if self.o <=13:\n",
    "      x=self.o\n",
    "      self.o += 2\n",
    "      return x\n",
    "    else:\n",
    "      raise StopIteration\n",
    "myclass=Oddnum()\n",
    "iter=iter(myclass)\n",
    "\n",
    "for x in myclass:\n",
    "  print(x)"
   ]
  },
  {
   "cell_type": "code",
   "execution_count": 3,
   "metadata": {},
   "outputs": [
    {
     "name": "stdout",
     "output_type": "stream",
     "text": [
      "roar\n",
      "bark\n",
      "meow\n",
      ".....\n",
      "Yellow\n",
      "Big\n",
      "roar\n",
      "black\n",
      "avrg\n",
      "bark\n",
      "brown\n",
      "Small\n",
      "meow\n"
     ]
    }
   ],
   "source": [
    "# Python Polymorphism\n",
    "class Lion:\n",
    "  def __init__(self,colour,size):\n",
    "    self.colour=colour\n",
    "    self.size=size\n",
    "  def sound(self):\n",
    "    print('roar')\n",
    "class Dog:\n",
    "  def __init__(self,colour,size):\n",
    "    self.colour=colour\n",
    "    self.size=size\n",
    "  def sound(self):\n",
    "    print('bark')\n",
    "class Cat:\n",
    "  def __init__(self,colour,size):\n",
    "    self.colour=colour\n",
    "    self.size=size\n",
    "  def sound(self):\n",
    "    print('meow')\n",
    "\n",
    "mylion=Lion('Yellow','Big')\n",
    "mydog=Dog('black','avrg')\n",
    "mycat=Cat('brown','Small')\n",
    "\n",
    "for x in(mylion,mydog,mycat):\n",
    " x.sound()\n",
    "\n",
    "print('.....')\n",
    "#Inheritance Class Polymorphism\n",
    "class Animal:\n",
    "  def __init__(self,colour,size):\n",
    "    self.colour=colour\n",
    "    self.size=size\n",
    "\n",
    "class Lion(Animal):\n",
    "  def sound(self):\n",
    "    print('roar')\n",
    "\n",
    "class Dog(Animal):\n",
    "  def sound(self):\n",
    "    print('bark')\n",
    "\n",
    "class Cat(Animal):\n",
    "  def sound(self):\n",
    "    print('meow')\n",
    "\n",
    "mylion=Lion('Yellow','Big')\n",
    "mydog=Dog('black','avrg')\n",
    "mycat=Cat('brown','Small')\n",
    "\n",
    "for x in(mylion,mydog,mycat):\n",
    " print(x.colour)\n",
    " print(x.size)\n",
    " x.sound()"
   ]
  },
  {
   "cell_type": "code",
   "execution_count": 1,
   "metadata": {},
   "outputs": [],
   "source": [
    "### Numpy"
   ]
  },
  {
   "cell_type": "code",
   "execution_count": 2,
   "metadata": {},
   "outputs": [],
   "source": [
    "### importing the libarary\n",
    "import numpy as np"
   ]
  },
  {
   "cell_type": "code",
   "execution_count": 5,
   "metadata": {},
   "outputs": [
    {
     "name": "stdout",
     "output_type": "stream",
     "text": [
      "[1 2 3 4 5]\n"
     ]
    }
   ],
   "source": [
    "#creating an array\n",
    "arr = np.array([1, 2, 3, 4, 5])\n",
    "print(arr)"
   ]
  },
  {
   "cell_type": "code",
   "execution_count": 3,
   "metadata": {},
   "outputs": [
    {
     "name": "stdout",
     "output_type": "stream",
     "text": [
      "[[0. 0.]\n",
      " [0. 0.]\n",
      " [0. 0.]]\n"
     ]
    }
   ],
   "source": [
    "#creating an array of zero\n",
    "arr = np.zeros((3, 2))\n",
    "print(arr)"
   ]
  },
  {
   "cell_type": "code",
   "execution_count": 4,
   "metadata": {},
   "outputs": [
    {
     "name": "stdout",
     "output_type": "stream",
     "text": [
      "[[1. 1. 1.]\n",
      " [1. 1. 1.]\n",
      " [1. 1. 1.]]\n"
     ]
    }
   ],
   "source": [
    "#creating an array of ones\n",
    "arr = np.ones((3, 3))\n",
    "print(arr)"
   ]
  },
  {
   "cell_type": "code",
   "execution_count": 8,
   "metadata": {},
   "outputs": [
    {
     "name": "stdout",
     "output_type": "stream",
     "text": [
      "[[1. 1. 1.]\n",
      " [1. 1. 1.]\n",
      " [1. 1. 1.]]\n"
     ]
    }
   ],
   "source": [
    "#creating an empty list\n",
    "arr = np.empty((3, 3))\n",
    "print(arr)"
   ]
  },
  {
   "cell_type": "code",
   "execution_count": 9,
   "metadata": {},
   "outputs": [
    {
     "name": "stdout",
     "output_type": "stream",
     "text": [
      "[[8 8 8]\n",
      " [8 8 8]\n",
      " [8 8 8]]\n"
     ]
    }
   ],
   "source": [
    "#array with filled with specific number\n",
    "arr = np.full((3, 3), 8)\n",
    "print(arr)"
   ]
  },
  {
   "cell_type": "code",
   "execution_count": 10,
   "metadata": {},
   "outputs": [
    {
     "name": "stdout",
     "output_type": "stream",
     "text": [
      "arange: [0 3 6 9]\n"
     ]
    }
   ],
   "source": [
    "#array of evenly spread number\n",
    "arr = np.arange(0, 10, 3)\n",
    "print(\"arange:\",arr)"
   ]
  },
  {
   "cell_type": "code",
   "execution_count": 11,
   "metadata": {},
   "outputs": [
    {
     "name": "stdout",
     "output_type": "stream",
     "text": [
      "[ 0. 10.]\n",
      "[ 0.  5. 10.]\n",
      "[ 0.   2.5  5.   7.5 10. ]\n"
     ]
    }
   ],
   "source": [
    "#generate numbers with evenly distributed space in a range\n",
    "arr = np.linspace(0, 10, 2)\n",
    "print(arr)\n",
    "arr = np.linspace(0, 10, 3)\n",
    "print(arr)\n",
    "arr = np.linspace(0, 10, 5)\n",
    "print(arr)"
   ]
  },
  {
   "cell_type": "code",
   "execution_count": 12,
   "metadata": {},
   "outputs": [
    {
     "name": "stdout",
     "output_type": "stream",
     "text": [
      "[  10.  100. 1000.]\n"
     ]
    }
   ],
   "source": [
    "#Creates an array with logarithmically spaced values\n",
    "arr = np.logspace(1, 3, 3)\n",
    "print(arr)"
   ]
  },
  {
   "cell_type": "code",
   "execution_count": 13,
   "metadata": {},
   "outputs": [
    {
     "name": "stdout",
     "output_type": "stream",
     "text": [
      "[[1. 0. 0. 0.]\n",
      " [0. 1. 0. 0.]\n",
      " [0. 0. 1. 0.]\n",
      " [0. 0. 0. 1.]]\n"
     ]
    }
   ],
   "source": [
    "#create an identity martix\n",
    "arr = np.eye(4)\n",
    "print(arr)"
   ]
  },
  {
   "cell_type": "code",
   "execution_count": 14,
   "metadata": {},
   "outputs": [
    {
     "name": "stdout",
     "output_type": "stream",
     "text": [
      "[[0.55710134 0.31590162 0.0582082 ]\n",
      " [0.53848696 0.66873372 0.84250735]\n",
      " [0.43924607 0.03024908 0.40284994]]\n"
     ]
    }
   ],
   "source": [
    "#create array of randam number ranging 0-1\n",
    "arr = np.random.random((3, 3))\n",
    "print(arr)"
   ]
  },
  {
   "cell_type": "code",
   "execution_count": 15,
   "metadata": {},
   "outputs": [
    {
     "name": "stdout",
     "output_type": "stream",
     "text": [
      "[[2 4 2]\n",
      " [1 2 4]\n",
      " [0 4 0]]\n"
     ]
    }
   ],
   "source": [
    "#create array of randam number of specified range\n",
    "arr = np.random.randint(0, 5, (3, 3))\n",
    "print(arr)"
   ]
  },
  {
   "cell_type": "code",
   "execution_count": 16,
   "metadata": {},
   "outputs": [
    {
     "name": "stdout",
     "output_type": "stream",
     "text": [
      "[[1 2]\n",
      " [3 4]\n",
      " [5 6]]\n"
     ]
    }
   ],
   "source": [
    "## Array Manipulation\n",
    "#reshape array\n",
    "arr = np.array([[1, 2, 3], [4, 5, 6]])\n",
    "arr = arr.reshape((3, 2))\n",
    "print(arr)"
   ]
  },
  {
   "cell_type": "code",
   "execution_count": 17,
   "metadata": {},
   "outputs": [
    {
     "name": "stdout",
     "output_type": "stream",
     "text": [
      "[1 2 3 4 5 6]\n"
     ]
    }
   ],
   "source": [
    "#flatten an array\n",
    "arr = np.array([[1, 2, 3], [4, 5, 6]])\n",
    "arr = arr.ravel()\n",
    "print(arr)"
   ]
  },
  {
   "cell_type": "code",
   "execution_count": 18,
   "metadata": {},
   "outputs": [
    {
     "name": "stdout",
     "output_type": "stream",
     "text": [
      "[[1 4]\n",
      " [2 5]\n",
      " [3 6]]\n"
     ]
    }
   ],
   "source": [
    "# transpose of array\n",
    "arr = np.array([[1, 2, 3], [4, 5, 6]])\n",
    "arr = arr.transpose()\n",
    "print(arr)"
   ]
  },
  {
   "cell_type": "code",
   "execution_count": 19,
   "metadata": {},
   "outputs": [
    {
     "name": "stdout",
     "output_type": "stream",
     "text": [
      "[[[1 2]\n",
      "  [5 6]]\n",
      "\n",
      " [[3 4]\n",
      "  [7 8]]]\n"
     ]
    }
   ],
   "source": [
    "# swapping of axis in higher dimension\n",
    "arr = np.array([[[1, 2], [3, 4]], [[5, 6], [7, 8]]])\n",
    "arr = arr.swapaxes(0, 1)\n",
    "print(arr)"
   ]
  },
  {
   "cell_type": "code",
   "execution_count": 20,
   "metadata": {},
   "outputs": [
    {
     "name": "stdout",
     "output_type": "stream",
     "text": [
      "[1 2 3 4 5 6]\n"
     ]
    }
   ],
   "source": [
    "# joining array\n",
    "arr1 = np.array([1, 2, 3])\n",
    "arr2 = np.array([4, 5, 6])\n",
    "arr = np.concatenate((arr1, arr2), axis=0)\n",
    "print(arr)"
   ]
  },
  {
   "cell_type": "code",
   "execution_count": 21,
   "metadata": {},
   "outputs": [
    {
     "name": "stdout",
     "output_type": "stream",
     "text": [
      "[[1 2 3]\n",
      " [4 5 6]]\n"
     ]
    }
   ],
   "source": [
    "# stack arrays on each other\n",
    "arr1 = np.array([1, 2, 3])\n",
    "arr2 = np.array([4, 5, 6])\n",
    "arr = np.stack((arr1, arr2))\n",
    "print(arr)"
   ]
  },
  {
   "cell_type": "code",
   "execution_count": 22,
   "metadata": {},
   "outputs": [
    {
     "name": "stdout",
     "output_type": "stream",
     "text": [
      "[array([[1, 2, 3]]), array([[4, 5, 6]])]\n"
     ]
    }
   ],
   "source": [
    "# split array into sub array\n",
    "arr = np.array([[1, 2, 3], [4, 5, 6]])\n",
    "arr = np.split(arr, 2)\n",
    "print(arr)"
   ]
  },
  {
   "cell_type": "code",
   "execution_count": 23,
   "metadata": {},
   "outputs": [
    {
     "name": "stdout",
     "output_type": "stream",
     "text": [
      "[1 2 3 4 5 6]\n"
     ]
    }
   ],
   "source": [
    "# horizontly stacks array\n",
    "arr1 = np.array([1, 2, 3])\n",
    "arr2 = np.array([4, 5, 6])\n",
    "arr = np.hstack((arr1, arr2))\n",
    "print(arr)"
   ]
  },
  {
   "cell_type": "code",
   "execution_count": 24,
   "metadata": {},
   "outputs": [
    {
     "name": "stdout",
     "output_type": "stream",
     "text": [
      "[[1 2 3]\n",
      " [4 5 6]]\n"
     ]
    }
   ],
   "source": [
    "# veritaclly stack arrays\n",
    "arr1 = np.array([1, 2, 3])\n",
    "arr2 = np.array([4, 5, 6])\n",
    "arr = np.vstack((arr1, arr2))\n",
    "print(arr)"
   ]
  },
  {
   "cell_type": "code",
   "execution_count": 25,
   "metadata": {},
   "outputs": [
    {
     "name": "stdout",
     "output_type": "stream",
     "text": [
      "shape: (3, 3)\n"
     ]
    }
   ],
   "source": [
    "## Array Information\n",
    "# shape of array\n",
    "arr = np.array([[1, 2, 3], [4, 5, 6],[7, 8, 9]])\n",
    "shape = arr.shape\n",
    "print(\"shape:\", shape)"
   ]
  },
  {
   "cell_type": "code",
   "execution_count": 26,
   "metadata": {},
   "outputs": [
    {
     "name": "stdout",
     "output_type": "stream",
     "text": [
      "size: 9\n"
     ]
    }
   ],
   "source": [
    "# size of array\n",
    "arr = np.array([[1, 2, 3], [4, 5, 6],[7, 8, 9]])\n",
    "size = arr.size\n",
    "print(\"size:\", size)"
   ]
  },
  {
   "cell_type": "code",
   "execution_count": 27,
   "metadata": {},
   "outputs": [
    {
     "name": "stdout",
     "output_type": "stream",
     "text": [
      "dtype: int32\n"
     ]
    }
   ],
   "source": [
    "# data type of array\n",
    "arr = np.array([[1, 2, 3], [4, 5, 6],[7, 8, 9]])\n",
    "dtype = arr.dtype\n",
    "print(\"dtype:\", dtype)"
   ]
  },
  {
   "cell_type": "code",
   "execution_count": 28,
   "metadata": {},
   "outputs": [
    {
     "name": "stdout",
     "output_type": "stream",
     "text": [
      "ndim: 2\n"
     ]
    }
   ],
   "source": [
    "# dimension of array\n",
    "arr = np.array([[1, 2, 3], [4, 5, 6],[7, 8, 9]])\n",
    "ndim = arr.ndim\n",
    "print(\"ndim:\", ndim)"
   ]
  },
  {
   "cell_type": "code",
   "execution_count": 29,
   "metadata": {},
   "outputs": [
    {
     "name": "stdout",
     "output_type": "stream",
     "text": [
      "itemsize1: 4\n",
      "itemsize2: 4\n",
      "itemsize3: 8\n",
      "itemsize4: 8\n"
     ]
    }
   ],
   "source": [
    "# size of one array element in bytes.\n",
    "arr = np.array([[1, 2, 3], [4, 5, 6],[7, 8, 9]])\n",
    "itemsize = arr.itemsize\n",
    "print(\"itemsize1:\", itemsize)\n",
    "\n",
    "arr = np.array([[1, 2, 3], [4, 5, 6]])\n",
    "itemsize = arr.itemsize\n",
    "print(\"itemsize2:\", itemsize)\n",
    "\n",
    "arr = np.array([[1, 2.1, 3], [4.0, 5.7, 6.8]])\n",
    "itemsize = arr.itemsize\n",
    "print(\"itemsize3:\", itemsize)\n",
    "\n",
    "arr = np.array([[1, 2, 3], [4.0, 5.7, 6.8]])\n",
    "itemsize = arr.itemsize\n",
    "print(\"itemsize4:\", itemsize)"
   ]
  },
  {
   "cell_type": "code",
   "execution_count": 30,
   "metadata": {},
   "outputs": [
    {
     "name": "stdout",
     "output_type": "stream",
     "text": [
      "nbytes: 12\n"
     ]
    }
   ],
   "source": [
    "# bytes consumed by the elements of the array.\n",
    "arr = np.array([1, 2, 3])\n",
    "nbytes = arr.nbytes\n",
    "print(\"nbytes:\", nbytes)"
   ]
  },
  {
   "cell_type": "code",
   "execution_count": 31,
   "metadata": {},
   "outputs": [
    {
     "name": "stdout",
     "output_type": "stream",
     "text": [
      "[5 7 9]\n"
     ]
    }
   ],
   "source": [
    "## Array Operations\n",
    "# add two arrays\n",
    "arr1 = np.array([1, 2, 3])\n",
    "arr2 = np.array([4, 5, 6])\n",
    "arr = np.add(arr1, arr2)\n",
    "print(arr)"
   ]
  },
  {
   "cell_type": "code",
   "execution_count": 32,
   "metadata": {},
   "outputs": [
    {
     "name": "stdout",
     "output_type": "stream",
     "text": [
      "[-3 -3 -3]\n"
     ]
    }
   ],
   "source": [
    "# subtract two arrays\n",
    "arr1 = np.array([1, 2, 3])\n",
    "arr2 = np.array([4, 5, 6])\n",
    "arr = np.subtract(arr1, arr2)\n",
    "print(arr)"
   ]
  },
  {
   "cell_type": "code",
   "execution_count": 33,
   "metadata": {},
   "outputs": [
    {
     "name": "stdout",
     "output_type": "stream",
     "text": [
      "[ 4 10 18]\n"
     ]
    }
   ],
   "source": [
    "# multiply two array\n",
    "arr1 = np.array([1, 2, 3])\n",
    "arr2 = np.array([4, 5, 6])\n",
    "arr = np.multiply(arr1, arr2)\n",
    "print(arr)"
   ]
  },
  {
   "cell_type": "code",
   "execution_count": 34,
   "metadata": {},
   "outputs": [
    {
     "name": "stdout",
     "output_type": "stream",
     "text": [
      "[0.25 0.4  0.5 ]\n"
     ]
    }
   ],
   "source": [
    "# divide two array\n",
    "arr1 = np.array([1, 2, 3])\n",
    "arr2 = np.array([4, 5, 6])\n",
    "arr = np.divide(arr1, arr2)\n",
    "print(arr)"
   ]
  },
  {
   "cell_type": "code",
   "execution_count": 35,
   "metadata": {},
   "outputs": [
    {
     "name": "stdout",
     "output_type": "stream",
     "text": [
      "[1 4 9]\n"
     ]
    }
   ],
   "source": [
    "# taking power of array\n",
    "arr1 = np.array([1, 2, 3])\n",
    "arr2 = np.array([2, 2, 2])\n",
    "arr = np.power(arr1, arr2)\n",
    "print(arr)"
   ]
  },
  {
   "cell_type": "code",
   "execution_count": 36,
   "metadata": {},
   "outputs": [
    {
     "name": "stdout",
     "output_type": "stream",
     "text": [
      "32\n"
     ]
    }
   ],
   "source": [
    "# dot product of array\n",
    "arr1 = np.array([1, 2, 3])\n",
    "arr2 = np.array([4, 5, 6])\n",
    "product = np.dot(arr1, arr2)\n",
    "print(product)"
   ]
  },
  {
   "cell_type": "code",
   "execution_count": 37,
   "metadata": {},
   "outputs": [
    {
     "name": "stdout",
     "output_type": "stream",
     "text": [
      "[[19 22]\n",
      " [43 50]]\n"
     ]
    }
   ],
   "source": [
    "# Matrix product of two arrays\n",
    "arr1 = np.array([[1, 2], [3, 4]])\n",
    "arr2 = np.array([[5, 6], [7, 8]])\n",
    "product = np.matmul(arr1, arr2)\n",
    "print(product)"
   ]
  },
  {
   "cell_type": "code",
   "execution_count": 38,
   "metadata": {},
   "outputs": [
    {
     "name": "stdout",
     "output_type": "stream",
     "text": [
      "[[ 4  5  6]\n",
      " [ 8 10 12]\n",
      " [12 15 18]]\n"
     ]
    }
   ],
   "source": [
    "# Tensor dot product of two arrays\n",
    "arr1 = np.array([1, 2, 3])\n",
    "arr2 = np.array([4, 5, 6])\n",
    "product = np.tensordot(arr1, arr2, axes=0)\n",
    "print(product)"
   ]
  },
  {
   "cell_type": "code",
   "execution_count": 39,
   "metadata": {},
   "outputs": [
    {
     "name": "stdout",
     "output_type": "stream",
     "text": [
      "[ 0  1  4  9 16]\n"
     ]
    }
   ],
   "source": [
    "# square function\n",
    "arr = np.array([0, 1, 2, 3, 4])\n",
    "arr = np.square(arr)\n",
    "print(arr)"
   ]
  },
  {
   "cell_type": "code",
   "execution_count": 40,
   "metadata": {},
   "outputs": [
    {
     "name": "stdout",
     "output_type": "stream",
     "text": [
      "[0.         1.         1.41421356 1.73205081 2.        ]\n"
     ]
    }
   ],
   "source": [
    "# square root function\n",
    "arr = np.array([0, 1, 2, 3, 4])\n",
    "arr = np.sqrt(arr)\n",
    "print(arr)"
   ]
  },
  {
   "cell_type": "code",
   "execution_count": 41,
   "metadata": {},
   "outputs": [
    {
     "name": "stdout",
     "output_type": "stream",
     "text": [
      "5.5\n"
     ]
    }
   ],
   "source": [
    "## Statistical Functions\n",
    "# mean\n",
    "arr = np.array([1, 2, 3, 4, 5, 6, 7, 8, 9, 10])\n",
    "val = np.mean(arr)\n",
    "print(val)"
   ]
  },
  {
   "cell_type": "code",
   "execution_count": 42,
   "metadata": {},
   "outputs": [
    {
     "name": "stdout",
     "output_type": "stream",
     "text": [
      "5.5\n"
     ]
    }
   ],
   "source": [
    "# median\n",
    "arr = np.array([1, 2, 3, 4, 5, 6, 7, 8, 9, 10])\n",
    "val = np.median(arr)\n",
    "print(val)"
   ]
  },
  {
   "cell_type": "code",
   "execution_count": 43,
   "metadata": {},
   "outputs": [
    {
     "name": "stdout",
     "output_type": "stream",
     "text": [
      "2.8722813232690143\n"
     ]
    }
   ],
   "source": [
    "# standard deviation\n",
    "arr = np.array([1, 2, 3, 4, 5, 6, 7, 8, 9, 10])\n",
    "val = np.std(arr)\n",
    "print(val)"
   ]
  },
  {
   "cell_type": "code",
   "execution_count": 44,
   "metadata": {},
   "outputs": [
    {
     "name": "stdout",
     "output_type": "stream",
     "text": [
      "8.25\n"
     ]
    }
   ],
   "source": [
    "# Varience\n",
    "arr = np.array([1, 2, 3, 4, 5, 6, 7, 8, 9, 10])\n",
    "val = np.var(arr)\n",
    "print(val)"
   ]
  },
  {
   "cell_type": "code",
   "execution_count": 45,
   "metadata": {},
   "outputs": [
    {
     "name": "stdout",
     "output_type": "stream",
     "text": [
      "1\n"
     ]
    }
   ],
   "source": [
    "# min value\n",
    "arr = np.array([1, 2, 3, 4, 5, 6, 7, 8, 9, 10])\n",
    "val = np.min(arr)\n",
    "print(val)"
   ]
  },
  {
   "cell_type": "code",
   "execution_count": 46,
   "metadata": {},
   "outputs": [
    {
     "name": "stdout",
     "output_type": "stream",
     "text": [
      "10\n"
     ]
    }
   ],
   "source": [
    "# max value\n",
    "arr = np.array([1, 2, 3, 4, 5, 6, 7, 8, 9, 10])\n",
    "val = np.max(arr)\n",
    "print(val)"
   ]
  },
  {
   "cell_type": "code",
   "execution_count": 47,
   "metadata": {},
   "outputs": [
    {
     "name": "stdout",
     "output_type": "stream",
     "text": [
      "0\n"
     ]
    }
   ],
   "source": [
    "# index of min value\n",
    "arr = np.array([1, 2, 3, 4, 5, 6, 7, 8, 9, 10])\n",
    "val = np.argmin(arr)\n",
    "print(val)"
   ]
  },
  {
   "cell_type": "code",
   "execution_count": 48,
   "metadata": {},
   "outputs": [
    {
     "name": "stdout",
     "output_type": "stream",
     "text": [
      "9\n"
     ]
    }
   ],
   "source": [
    "# index of max value\n",
    "arr = np.array([1, 2, 3, 4, 5, 6, 7, 8, 9, 10])\n",
    "val = np.argmax(arr)\n",
    "print(val)"
   ]
  },
  {
   "cell_type": "code",
   "execution_count": 49,
   "metadata": {},
   "outputs": [
    {
     "name": "stdout",
     "output_type": "stream",
     "text": [
      "5.0\n"
     ]
    }
   ],
   "source": [
    "# percentile\n",
    "arr = np.array([1, 2, 3, 4, 5, 6, 7, 8, 9])\n",
    "val = np.percentile(arr, 50)\n",
    "print(val)"
   ]
  },
  {
   "cell_type": "code",
   "execution_count": 54,
   "metadata": {},
   "outputs": [],
   "source": [
    "# Logical Functions\n",
    "arr = np.array([True, False, True, True, False])\n",
    "arr1 = np.array([True, True, False, False, True])\n",
    "arr2 = np.array([False, True, False, True, False])"
   ]
  },
  {
   "cell_type": "code",
   "execution_count": 51,
   "metadata": {},
   "outputs": [
    {
     "name": "stdout",
     "output_type": "stream",
     "text": [
      "False\n"
     ]
    }
   ],
   "source": [
    "# check if all the values are true\n",
    "result = np.all(arr)\n",
    "print(result)"
   ]
  },
  {
   "cell_type": "code",
   "execution_count": 52,
   "metadata": {},
   "outputs": [
    {
     "name": "stdout",
     "output_type": "stream",
     "text": [
      "True\n"
     ]
    }
   ],
   "source": [
    "# check if there is any true value\n",
    "result = np.any(arr)\n",
    "print(result)"
   ]
  },
  {
   "cell_type": "code",
   "execution_count": 55,
   "metadata": {},
   "outputs": [
    {
     "name": "stdout",
     "output_type": "stream",
     "text": [
      "[False  True False False False]\n"
     ]
    }
   ],
   "source": [
    "# and operation\n",
    "result = np.logical_and(arr1, arr2)\n",
    "print(result)"
   ]
  },
  {
   "cell_type": "code",
   "execution_count": 56,
   "metadata": {},
   "outputs": [
    {
     "name": "stdout",
     "output_type": "stream",
     "text": [
      "[ True  True False  True  True]\n"
     ]
    }
   ],
   "source": [
    "# or opertaion\n",
    "result = np.logical_or(arr1, arr2)\n",
    "print(result)"
   ]
  },
  {
   "cell_type": "code",
   "execution_count": 57,
   "metadata": {},
   "outputs": [
    {
     "name": "stdout",
     "output_type": "stream",
     "text": [
      "[False  True False False  True]\n"
     ]
    }
   ],
   "source": [
    "# not operator\n",
    "result = np.logical_not(arr)\n",
    "print(result)"
   ]
  },
  {
   "cell_type": "code",
   "execution_count": 58,
   "metadata": {},
   "outputs": [
    {
     "name": "stdout",
     "output_type": "stream",
     "text": [
      "[ True False False  True  True]\n"
     ]
    }
   ],
   "source": [
    "# XOR operation\n",
    "result = np.logical_xor(arr1, arr2)\n",
    "print(result)"
   ]
  },
  {
   "cell_type": "code",
   "execution_count": 59,
   "metadata": {},
   "outputs": [
    {
     "name": "stdout",
     "output_type": "stream",
     "text": [
      "32\n"
     ]
    }
   ],
   "source": [
    "## Linear Algebra\n",
    "# dot product\n",
    "arr1 = np.array([1, 2, 3])\n",
    "arr2 = np.array([4, 5, 6])\n",
    "val = np.dot(arr1, arr2)\n",
    "print(val)"
   ]
  },
  {
   "cell_type": "code",
   "execution_count": 60,
   "metadata": {},
   "outputs": [
    {
     "name": "stdout",
     "output_type": "stream",
     "text": [
      "32\n"
     ]
    }
   ],
   "source": [
    "# vector dot product\n",
    "arr1 = np.array([1, 2, 3])\n",
    "arr2 = np.array([4, 5, 6])\n",
    "val = np.vdot(arr1, arr2)\n",
    "print(val)"
   ]
  },
  {
   "cell_type": "code",
   "execution_count": 61,
   "metadata": {},
   "outputs": [
    {
     "name": "stdout",
     "output_type": "stream",
     "text": [
      "32\n"
     ]
    }
   ],
   "source": [
    "# inner product\n",
    "arr1 = np.array([1, 2, 3])\n",
    "arr2 = np.array([4, 5, 6])\n",
    "val= np.inner(arr1, arr2)\n",
    "print(val)"
   ]
  },
  {
   "cell_type": "code",
   "execution_count": 62,
   "metadata": {},
   "outputs": [
    {
     "name": "stdout",
     "output_type": "stream",
     "text": [
      "[[ 4  5  6]\n",
      " [ 8 10 12]\n",
      " [12 15 18]]\n"
     ]
    }
   ],
   "source": [
    "# outer product\n",
    "arr1 = np.array([1, 2, 3])\n",
    "arr2 = np.array([4, 5, 6])\n",
    "arr = np.outer(arr1, arr2)\n",
    "print(arr)"
   ]
  },
  {
   "cell_type": "code",
   "execution_count": 63,
   "metadata": {},
   "outputs": [
    {
     "name": "stdout",
     "output_type": "stream",
     "text": [
      "-2.0000000000000004\n"
     ]
    }
   ],
   "source": [
    "# determinant\n",
    "mat1 = np.array([[1, 2], [3, 4]])\n",
    "val = np.linalg.det(mat1)\n",
    "print(val)"
   ]
  },
  {
   "cell_type": "code",
   "execution_count": 64,
   "metadata": {},
   "outputs": [
    {
     "name": "stdout",
     "output_type": "stream",
     "text": [
      "[[0.30251361 0.90222523]\n",
      " [0.65160014 0.66690482]\n",
      " [0.1659964  0.00215796]]\n"
     ]
    }
   ],
   "source": [
    "## Random Sampling\n",
    "# generates random value\n",
    "arr = np.random.rand(3, 2)\n",
    "print(arr)"
   ]
  },
  {
   "cell_type": "code",
   "execution_count": 65,
   "metadata": {},
   "outputs": [
    {
     "name": "stdout",
     "output_type": "stream",
     "text": [
      "[[ 0.52103826  1.35319759]\n",
      " [ 1.52747944  2.74930938]\n",
      " [ 0.11462636 -1.03527936]]\n"
     ]
    }
   ],
   "source": [
    "# generates random value from the standard normal distribution\n",
    "arr = np.random.randn(3, 2)\n",
    "print(arr)"
   ]
  },
  {
   "cell_type": "code",
   "execution_count": 66,
   "metadata": {},
   "outputs": [
    {
     "name": "stdout",
     "output_type": "stream",
     "text": [
      "[[2 1]\n",
      " [5 7]\n",
      " [5 3]]\n"
     ]
    }
   ],
   "source": [
    "# generate random value in a range\n",
    "arr = np.random.randint(1, 10, size=(3, 2))\n",
    "print(arr)"
   ]
  },
  {
   "cell_type": "code",
   "execution_count": 67,
   "metadata": {},
   "outputs": [
    {
     "name": "stdout",
     "output_type": "stream",
     "text": [
      "[[2 4]\n",
      " [5 3]\n",
      " [3 5]]\n"
     ]
    }
   ],
   "source": [
    "# choose a random  value from a list\n",
    "arr = np.random.choice([1, 2, 3, 4, 5], size=(3, 2))\n",
    "print(arr)"
   ]
  },
  {
   "cell_type": "code",
   "execution_count": 68,
   "metadata": {},
   "outputs": [
    {
     "name": "stdout",
     "output_type": "stream",
     "text": [
      "[2 1 4 5 3]\n"
     ]
    }
   ],
   "source": [
    "# randomly shuffle a value in a listarr = np.array([1, 2, 3, 4, 5])\n",
    "np.random.shuffle(arr)\n",
    "print(arr)"
   ]
  },
  {
   "cell_type": "code",
   "execution_count": 69,
   "metadata": {},
   "outputs": [
    {
     "name": "stdout",
     "output_type": "stream",
     "text": [
      "[0 3 2 1]\n"
     ]
    }
   ],
   "source": [
    "# Randomly permute a sequence, or return a permuted range\n",
    "arr = np.random.permutation(4)\n",
    "print(arr)"
   ]
  },
  {
   "cell_type": "code",
   "execution_count": 70,
   "metadata": {},
   "outputs": [
    {
     "name": "stdout",
     "output_type": "stream",
     "text": [
      "[1 2 3 4]\n"
     ]
    }
   ],
   "source": [
    "## Set Operations\n",
    "# unique elements in an  array\n",
    "arr1 = np.array([1, 2, 2, 3, 4])\n",
    "val = np.unique(arr1)\n",
    "print(val)"
   ]
  },
  {
   "cell_type": "code",
   "execution_count": 71,
   "metadata": {},
   "outputs": [
    {
     "name": "stdout",
     "output_type": "stream",
     "text": [
      "intersect1d: [3 4]\n"
     ]
    }
   ],
   "source": [
    "# intersection of two arrays.\n",
    "arr1 = np.array([1, 2, 2, 3, 4])\n",
    "arr2 = np.array([3, 4, 4, 5, 6])\n",
    "intersection = np.intersect1d(arr1, arr2)\n",
    "print(\"intersect1d:\", intersection)"
   ]
  },
  {
   "cell_type": "code",
   "execution_count": 72,
   "metadata": {},
   "outputs": [
    {
     "name": "stdout",
     "output_type": "stream",
     "text": [
      "union1d: [1 2 3 4 5 6]\n"
     ]
    }
   ],
   "source": [
    "# union of two arrays\n",
    "arr1 = np.array([1, 2, 2, 3, 4])\n",
    "arr2 = np.array([3, 4, 4, 5, 6])\n",
    "union = np.union1d(arr1, arr2)\n",
    "print(\"union1d:\", union)"
   ]
  },
  {
   "cell_type": "code",
   "execution_count": 73,
   "metadata": {},
   "outputs": [
    {
     "name": "stdout",
     "output_type": "stream",
     "text": [
      "setdiff1d: [1 2]\n"
     ]
    }
   ],
   "source": [
    "# difference of  two arrays\n",
    "arr1 = np.array([1, 2, 2, 3, 4])\n",
    "arr2 = np.array([3, 4, 4, 5, 6])\n",
    "set_difference = np.setdiff1d(arr1, arr2)\n",
    "print(\"setdiff1d:\", set_difference)"
   ]
  },
  {
   "cell_type": "code",
   "execution_count": 74,
   "metadata": {},
   "outputs": [
    {
     "name": "stdout",
     "output_type": "stream",
     "text": [
      "setxor1d: [1 2 5 6]\n"
     ]
    }
   ],
   "source": [
    "# exclusive-or of two arrays.\n",
    "arr1 = np.array([1, 2, 2, 3, 4])\n",
    "arr2 = np.array([3, 4, 4, 5, 6])\n",
    "set_xor = np.setxor1d(arr1, arr2)\n",
    "print(\"setxor1d:\", set_xor)"
   ]
  },
  {
   "cell_type": "code",
   "execution_count": 3,
   "metadata": {},
   "outputs": [
    {
     "name": "stdout",
     "output_type": "stream",
     "text": [
      "DataFrame from dictionary:\n",
      "        Name  Age       City\n",
      "0  Hanzalah   25     Lahore\n",
      "1      Shan   30  Islamabad\n",
      "2    Farzam   35     Multan\n",
      "Head of DataFrame:\n",
      "        Name  Age       City\n",
      "0  Hanzalah   25     Lahore\n",
      "1      Shan   30  Islamabad\n",
      "2    Farzam   35     Multan\n",
      "Tail of DataFrame:\n",
      "        Name  Age       City\n",
      "0  Hanzalah   25     Lahore\n",
      "1      Shan   30  Islamabad\n",
      "2    Farzam   35     Multan\n",
      "<class 'pandas.core.frame.DataFrame'>\n",
      "RangeIndex: 3 entries, 0 to 2\n",
      "Data columns (total 3 columns):\n",
      " #   Column  Non-Null Count  Dtype \n",
      "---  ------  --------------  ----- \n",
      " 0   Name    3 non-null      object\n",
      " 1   Age     3 non-null      int64 \n",
      " 2   City    3 non-null      object\n",
      "dtypes: int64(1), object(2)\n",
      "memory usage: 204.0+ bytes\n",
      "DataFrame info:\n",
      " None\n",
      "DataFrame description:\n",
      "         Age\n",
      "count   3.0\n",
      "mean   30.0\n",
      "std     5.0\n",
      "min    25.0\n",
      "25%    27.5\n",
      "50%    30.0\n",
      "75%    32.5\n",
      "max    35.0\n",
      "DataFrame shape: (3, 3)\n",
      "DataFrame columns: Index(['Name', 'Age', 'City'], dtype='object')\n",
      "DataFrame index: RangeIndex(start=0, stop=3, step=1)\n",
      "Select a single column:\n",
      " 0    Hanzalah\n",
      "1        Shan\n",
      "2      Farzam\n",
      "Name: Name, dtype: object\n",
      "Select multiple columns:\n",
      "        Name  Age\n",
      "0  Hanzalah   25\n",
      "1      Shan   30\n",
      "2    Farzam   35\n",
      "Select rows by index:\n",
      " Name    Hanzalah\n",
      "Age           25\n",
      "City      Lahore\n",
      "Name: 0, dtype: object\n",
      "Select rows by label:\n",
      " Name    Hanzalah\n",
      "Age           25\n",
      "City      Lahore\n",
      "Name: 0, dtype: object\n",
      "Select rows and columns by label:\n",
      " Hanzalah\n",
      "Select rows and columns by condition:\n",
      "      Name  Age    City\n",
      "2  Farzam   35  Multan\n",
      "After adding a column:\n",
      "        Name  Age       City   Country\n",
      "0  Hanzalah   25     Lahore  Pakistan\n",
      "1      Shan   30  Islamabad       USA\n",
      "2    Farzam   35     Multan        UK\n",
      "After dropping a column:\n",
      "        Name  Age       City\n",
      "0  Hanzalah   25     Lahore\n",
      "1      Shan   30  Islamabad\n",
      "2    Farzam   35     Multan\n",
      "DataFrame with missing value:\n",
      "        Name   Age       City\n",
      "0  Hanzalah  25.0     Lahore\n",
      "1      Shan   NaN  Islamabad\n",
      "2    Farzam  35.0     Multan\n",
      "After filling missing values:\n",
      "        Name   Age       City\n",
      "0  Hanzalah  25.0     Lahore\n",
      "1      Shan   0.0  Islamabad\n",
      "2    Farzam  35.0     Multan\n",
      "After dropping missing values:\n",
      "        Name   Age    City\n",
      "0  Hanzalah  25.0  Lahore\n",
      "2    Farzam  35.0  Multan\n",
      "Grouped by City with mean values:\n",
      " <pandas.core.groupby.generic.DataFrameGroupBy object at 0x0000026AD1F14810>\n",
      "Inner merge:\n",
      "   key  value_x  value_y\n",
      "0   A        1        4\n",
      "1   B        2        5\n",
      "Outer merge:\n",
      "   key  value_x  value_y\n",
      "0   A      1.0      4.0\n",
      "1   B      2.0      5.0\n",
      "2   C      3.0      NaN\n",
      "3   D      NaN      6.0\n",
      "Concatenated along rows:\n",
      "   key  value\n",
      "0   A      1\n",
      "1   B      2\n",
      "2   C      3\n",
      "0   A      4\n",
      "1   B      5\n",
      "2   D      6\n",
      "Concatenated along columns:\n",
      "   key  value key  value\n",
      "0   A      1   A      4\n",
      "1   B      2   B      5\n",
      "2   C      3   D      6\n",
      "Pivot table:\n",
      " C        large  small\n",
      "A   B                \n",
      "bar one    3.0    4.0\n",
      "    two    NaN    3.0\n",
      "foo one    2.0    1.0\n",
      "    two    NaN    2.0\n",
      "DataFrame sorted by Age:\n",
      "        Name   Age       City\n",
      "0  Hanzalah  25.0     Lahore\n",
      "2    Farzam  35.0     Multan\n",
      "1      Shan   NaN  Islamabad\n",
      "After applying function to Age column:\n",
      "        Name   Age       City  Age_plus_10\n",
      "0  Hanzalah  25.0     Lahore         35.0\n",
      "1      Shan   NaN  Islamabad          NaN\n",
      "2    Farzam  35.0     Multan         45.0\n"
     ]
    }
   ],
   "source": [
    "#Pandas\n",
    "import pandas as pd\n",
    "\n",
    "# Creating DataFrame\n",
    "data = {\n",
    "    'Name': ['Hanzalah', 'Shan', 'Farzam'],\n",
    "    'Age': [25, 30, 35],\n",
    "    'City': ['Lahore', 'Islamabad', 'Multan']\n",
    "}\n",
    "df = pd.DataFrame(data)\n",
    "print(\"DataFrame from dictionary:\\n\", df)\n",
    "\n",
    "# Viewing Data\n",
    "print(\"Head of DataFrame:\\n\", df.head())\n",
    "print(\"Tail of DataFrame:\\n\", df.tail())\n",
    "print(\"DataFrame info:\\n\", df.info())\n",
    "print(\"DataFrame description:\\n\", df.describe())\n",
    "print(\"DataFrame shape:\", df.shape)\n",
    "print(\"DataFrame columns:\", df.columns)\n",
    "print(\"DataFrame index:\", df.index)\n",
    "\n",
    "# Selecting Data\n",
    "print(\"Select a single column:\\n\", df['Name'])\n",
    "print(\"Select multiple columns:\\n\", df[['Name', 'Age']])\n",
    "print(\"Select rows by index:\\n\", df.iloc[0])\n",
    "print(\"Select rows by label:\\n\", df.loc[0])\n",
    "print(\"Select rows and columns by label:\\n\", df.loc[0, 'Name'])\n",
    "print(\"Select rows and columns by condition:\\n\", df[df['Age'] > 30])\n",
    "\n",
    "# Adding/Removing Data\n",
    "df['Country'] = ['Pakistan', 'USA', 'UK']\n",
    "print(\"After adding a column:\\n\", df)\n",
    "\n",
    "df = df.drop(columns=['Country'])\n",
    "print(\"After dropping a column:\\n\", df)\n",
    "\n",
    "\n",
    "# Handling Missing Data\n",
    "df.loc[1, 'Age'] = None\n",
    "print(\"DataFrame with missing value:\\n\", df)\n",
    "\n",
    "df_filled = df.fillna(0)\n",
    "print(\"After filling missing values:\\n\", df_filled)\n",
    "\n",
    "df_dropped = df.dropna()\n",
    "print(\"After dropping missing values:\\n\", df_dropped)\n",
    "\n",
    "# Grouping Data\n",
    "grouped = df.groupby('City')\n",
    "print(\"Grouped by City with mean values:\\n\", grouped)\n",
    "\n",
    "# Merging Data\n",
    "data1 = {'key': ['A', 'B', 'C'], 'value': [1, 2, 3]}\n",
    "data2 = {'key': ['A', 'B', 'D'], 'value': [4, 5, 6]}\n",
    "\n",
    "df1 = pd.DataFrame(data1)\n",
    "df2 = pd.DataFrame(data2)\n",
    "\n",
    "merged_inner = pd.merge(df1, df2, on='key')\n",
    "print(\"Inner merge:\\n\", merged_inner)\n",
    "\n",
    "merged_outer = pd.merge(df1, df2, on='key', how='outer')\n",
    "print(\"Outer merge:\\n\", merged_outer)\n",
    "\n",
    "# Concatenating Data\n",
    "df3 = pd.concat([df1, df2], axis=0)\n",
    "print(\"Concatenated along rows:\\n\", df3)\n",
    "\n",
    "df4 = pd.concat([df1, df2], axis=1)\n",
    "print(\"Concatenated along columns:\\n\", df4)\n",
    "\n",
    "# Pivot Tables\n",
    "pivot_data = {\n",
    "    'A': ['foo', 'foo', 'foo', 'bar', 'bar', 'bar'],\n",
    "    'B': ['one', 'one', 'two', 'two', 'one', 'one'],\n",
    "    'C': ['small', 'large', 'small', 'small', 'large', 'small'],\n",
    "    'D': [1, 2, 2, 3, 3, 4]\n",
    "}\n",
    "df_pivot = pd.DataFrame(pivot_data)\n",
    "pivot_table = df_pivot.pivot_table(values='D', index=['A', 'B'], columns=['C'], aggfunc='sum')\n",
    "print(\"Pivot table:\\n\", pivot_table)\n",
    "\n",
    "# Sorting Data\n",
    "sorted_df = df.sort_values(by='Age')\n",
    "print(\"DataFrame sorted by Age:\\n\", sorted_df)\n",
    "\n",
    "# Applying Functions\n",
    "df['Age_plus_10'] = df['Age'].apply(lambda x: x + 10 if pd.notnull(x) else x)\n",
    "print(\"After applying function to Age column:\\n\", df)"
   ]
  },
  {
   "cell_type": "code",
   "execution_count": null,
   "metadata": {},
   "outputs": [],
   "source": []
  }
 ],
 "metadata": {
  "colab": {
   "provenance": []
  },
  "kernelspec": {
   "display_name": "Python 3 (ipykernel)",
   "language": "python",
   "name": "python3"
  },
  "language_info": {
   "codemirror_mode": {
    "name": "ipython",
    "version": 3
   },
   "file_extension": ".py",
   "mimetype": "text/x-python",
   "name": "python",
   "nbconvert_exporter": "python",
   "pygments_lexer": "ipython3",
   "version": "3.11.7"
  }
 },
 "nbformat": 4,
 "nbformat_minor": 1
}
